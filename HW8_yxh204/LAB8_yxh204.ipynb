{
 "cells": [
  {
   "cell_type": "markdown",
   "metadata": {},
   "source": [
    "# Lab 8 (Assignment 1)\n",
    "\n",
    "*Name: Kevin (Yuxuan) Han*\n",
    "\n",
    "*NetID: yxh204*\n",
    "\n",
    "---"
   ]
  },
  {
   "cell_type": "markdown",
   "metadata": {},
   "source": [
    "# Working with Data - Computer Lab for Guest Lecture Julia Lane\n",
    "\n",
    "In this computer lab we will learn more more details and practice data work to enhance the content of the lecture presented by Julia Lane on responsible data use. We will address a research question, think about data and measurement errors, and manipulate data. \n",
    "\n",
    "OUTLINE: \n",
    "1. Define a research question \n",
    "2. Think about what data are available \n",
    "3. Think about possible measurement errors \n",
    "4. Think about the interpretation of your results \n",
    "5. Inform your results by linking datasets "
   ]
  },
  {
   "cell_type": "markdown",
   "metadata": {},
   "source": [
    "---"
   ]
  },
  {
   "cell_type": "markdown",
   "metadata": {
    "raw_mimetype": "text/markdown"
   },
   "source": [
    "# 1. Define a reserach question\n",
    "Which Community Districts in NYC show the highest number of complaints?\n",
    "\n",
    "---"
   ]
  },
  {
   "cell_type": "markdown",
   "metadata": {},
   "source": [
    "# 2. Think about what data are available\n",
    "\n",
    "Find suitable data by searching the CUSP Data Catalog https://datahub.cusp.nyu.edu/catalog. You can use Urban Profiler to investigate the Metadata associated with each dataset. Using this tool will help you to decide which attributes of the data you need to answer your question so you don't have to load the entire dataset. "
   ]
  },
  {
   "cell_type": "code",
   "execution_count": 1,
   "metadata": {
    "collapsed": false
   },
   "outputs": [],
   "source": [
    "import os\n",
    "import pandas as pd\n",
    "import numpy as np"
   ]
  },
  {
   "cell_type": "code",
   "execution_count": 2,
   "metadata": {
    "collapsed": false
   },
   "outputs": [],
   "source": [
    "data = pd.read_csv(\"https://data.cityofnewyork.us/resource/erm2-nwe9.csv\")"
   ]
  },
  {
   "cell_type": "code",
   "execution_count": 3,
   "metadata": {
    "collapsed": false
   },
   "outputs": [
    {
     "data": {
      "text/plain": [
       "(1000, 53)"
      ]
     },
     "execution_count": 3,
     "metadata": {},
     "output_type": "execute_result"
    }
   ],
   "source": [
    "data.shape"
   ]
  },
  {
   "cell_type": "code",
   "execution_count": 4,
   "metadata": {
    "collapsed": false
   },
   "outputs": [
    {
     "data": {
      "text/html": [
       "<div>\n",
       "<table border=\"1\" class=\"dataframe\">\n",
       "  <thead>\n",
       "    <tr style=\"text-align: right;\">\n",
       "      <th></th>\n",
       "      <th>Unique Key</th>\n",
       "      <th>Created Date</th>\n",
       "      <th>Closed Date</th>\n",
       "      <th>Agency</th>\n",
       "      <th>Agency Name</th>\n",
       "      <th>Complaint Type</th>\n",
       "      <th>Descriptor</th>\n",
       "      <th>Location Type</th>\n",
       "      <th>Incident Zip</th>\n",
       "      <th>Incident Address</th>\n",
       "      <th>...</th>\n",
       "      <th>Bridge Highway Name</th>\n",
       "      <th>Bridge Highway Direction</th>\n",
       "      <th>Road Ramp</th>\n",
       "      <th>Bridge Highway Segment</th>\n",
       "      <th>Garage Lot Name</th>\n",
       "      <th>Ferry Direction</th>\n",
       "      <th>Ferry Terminal Name</th>\n",
       "      <th>Latitude</th>\n",
       "      <th>Longitude</th>\n",
       "      <th>Location</th>\n",
       "    </tr>\n",
       "  </thead>\n",
       "  <tbody>\n",
       "    <tr>\n",
       "      <th>0</th>\n",
       "      <td>34718162</td>\n",
       "      <td>11/06/2016 02:13:36 AM</td>\n",
       "      <td>NaN</td>\n",
       "      <td>NYPD</td>\n",
       "      <td>New York City Police Department</td>\n",
       "      <td>Noise - Residential</td>\n",
       "      <td>Loud Talking</td>\n",
       "      <td>Residential Building/House</td>\n",
       "      <td>11207.0</td>\n",
       "      <td>1072 DECATUR STREET</td>\n",
       "      <td>...</td>\n",
       "      <td>NaN</td>\n",
       "      <td>NaN</td>\n",
       "      <td>NaN</td>\n",
       "      <td>NaN</td>\n",
       "      <td>NaN</td>\n",
       "      <td>NaN</td>\n",
       "      <td>NaN</td>\n",
       "      <td>40.686273</td>\n",
       "      <td>-73.909983</td>\n",
       "      <td>(40.68627299499425, -73.90998344424513)</td>\n",
       "    </tr>\n",
       "    <tr>\n",
       "      <th>1</th>\n",
       "      <td>34710612</td>\n",
       "      <td>11/06/2016 02:13:26 AM</td>\n",
       "      <td>NaN</td>\n",
       "      <td>NYPD</td>\n",
       "      <td>New York City Police Department</td>\n",
       "      <td>Noise - Residential</td>\n",
       "      <td>Loud Music/Party</td>\n",
       "      <td>Residential Building/House</td>\n",
       "      <td>11203.0</td>\n",
       "      <td>264 EAST 39 STREET</td>\n",
       "      <td>...</td>\n",
       "      <td>NaN</td>\n",
       "      <td>NaN</td>\n",
       "      <td>NaN</td>\n",
       "      <td>NaN</td>\n",
       "      <td>NaN</td>\n",
       "      <td>NaN</td>\n",
       "      <td>NaN</td>\n",
       "      <td>40.650597</td>\n",
       "      <td>-73.940902</td>\n",
       "      <td>(40.65059719448146, -73.94090158256765)</td>\n",
       "    </tr>\n",
       "    <tr>\n",
       "      <th>2</th>\n",
       "      <td>34718078</td>\n",
       "      <td>11/06/2016 02:13:20 AM</td>\n",
       "      <td>11/06/2016 03:26:07 AM</td>\n",
       "      <td>NYPD</td>\n",
       "      <td>New York City Police Department</td>\n",
       "      <td>Noise - Residential</td>\n",
       "      <td>Loud Music/Party</td>\n",
       "      <td>Residential Building/House</td>\n",
       "      <td>10040.0</td>\n",
       "      <td>382 WADSWORTH AVENUE</td>\n",
       "      <td>...</td>\n",
       "      <td>NaN</td>\n",
       "      <td>NaN</td>\n",
       "      <td>NaN</td>\n",
       "      <td>NaN</td>\n",
       "      <td>NaN</td>\n",
       "      <td>NaN</td>\n",
       "      <td>NaN</td>\n",
       "      <td>40.856688</td>\n",
       "      <td>-73.929353</td>\n",
       "      <td>(40.85668814238739, -73.92935305837368)</td>\n",
       "    </tr>\n",
       "    <tr>\n",
       "      <th>3</th>\n",
       "      <td>34717999</td>\n",
       "      <td>11/06/2016 02:12:28 AM</td>\n",
       "      <td>NaN</td>\n",
       "      <td>NYPD</td>\n",
       "      <td>New York City Police Department</td>\n",
       "      <td>Noise - Residential</td>\n",
       "      <td>Loud Music/Party</td>\n",
       "      <td>Residential Building/House</td>\n",
       "      <td>10456.0</td>\n",
       "      <td>540 EAST 169 STREET</td>\n",
       "      <td>...</td>\n",
       "      <td>NaN</td>\n",
       "      <td>NaN</td>\n",
       "      <td>NaN</td>\n",
       "      <td>NaN</td>\n",
       "      <td>NaN</td>\n",
       "      <td>NaN</td>\n",
       "      <td>NaN</td>\n",
       "      <td>40.832517</td>\n",
       "      <td>-73.904383</td>\n",
       "      <td>(40.83251671698595, -73.90438319967464)</td>\n",
       "    </tr>\n",
       "    <tr>\n",
       "      <th>4</th>\n",
       "      <td>34712798</td>\n",
       "      <td>11/06/2016 02:11:19 AM</td>\n",
       "      <td>NaN</td>\n",
       "      <td>NYPD</td>\n",
       "      <td>New York City Police Department</td>\n",
       "      <td>Noise - Commercial</td>\n",
       "      <td>Loud Music/Party</td>\n",
       "      <td>Club/Bar/Restaurant</td>\n",
       "      <td>10461.0</td>\n",
       "      <td>3229 WESTCHESTER AVENUE</td>\n",
       "      <td>...</td>\n",
       "      <td>NaN</td>\n",
       "      <td>NaN</td>\n",
       "      <td>NaN</td>\n",
       "      <td>NaN</td>\n",
       "      <td>NaN</td>\n",
       "      <td>NaN</td>\n",
       "      <td>NaN</td>\n",
       "      <td>40.852054</td>\n",
       "      <td>-73.829039</td>\n",
       "      <td>(40.85205433772875, -73.82903920932816)</td>\n",
       "    </tr>\n",
       "  </tbody>\n",
       "</table>\n",
       "<p>5 rows × 53 columns</p>\n",
       "</div>"
      ],
      "text/plain": [
       "   Unique Key            Created Date             Closed Date Agency  \\\n",
       "0    34718162  11/06/2016 02:13:36 AM                     NaN   NYPD   \n",
       "1    34710612  11/06/2016 02:13:26 AM                     NaN   NYPD   \n",
       "2    34718078  11/06/2016 02:13:20 AM  11/06/2016 03:26:07 AM   NYPD   \n",
       "3    34717999  11/06/2016 02:12:28 AM                     NaN   NYPD   \n",
       "4    34712798  11/06/2016 02:11:19 AM                     NaN   NYPD   \n",
       "\n",
       "                       Agency Name       Complaint Type        Descriptor  \\\n",
       "0  New York City Police Department  Noise - Residential      Loud Talking   \n",
       "1  New York City Police Department  Noise - Residential  Loud Music/Party   \n",
       "2  New York City Police Department  Noise - Residential  Loud Music/Party   \n",
       "3  New York City Police Department  Noise - Residential  Loud Music/Party   \n",
       "4  New York City Police Department   Noise - Commercial  Loud Music/Party   \n",
       "\n",
       "                Location Type  Incident Zip         Incident Address  \\\n",
       "0  Residential Building/House       11207.0      1072 DECATUR STREET   \n",
       "1  Residential Building/House       11203.0       264 EAST 39 STREET   \n",
       "2  Residential Building/House       10040.0     382 WADSWORTH AVENUE   \n",
       "3  Residential Building/House       10456.0      540 EAST 169 STREET   \n",
       "4         Club/Bar/Restaurant       10461.0  3229 WESTCHESTER AVENUE   \n",
       "\n",
       "                    ...                    Bridge Highway Name  \\\n",
       "0                   ...                                    NaN   \n",
       "1                   ...                                    NaN   \n",
       "2                   ...                                    NaN   \n",
       "3                   ...                                    NaN   \n",
       "4                   ...                                    NaN   \n",
       "\n",
       "  Bridge Highway Direction Road Ramp Bridge Highway Segment Garage Lot Name  \\\n",
       "0                      NaN       NaN                    NaN             NaN   \n",
       "1                      NaN       NaN                    NaN             NaN   \n",
       "2                      NaN       NaN                    NaN             NaN   \n",
       "3                      NaN       NaN                    NaN             NaN   \n",
       "4                      NaN       NaN                    NaN             NaN   \n",
       "\n",
       "  Ferry Direction Ferry Terminal Name   Latitude  Longitude  \\\n",
       "0             NaN                 NaN  40.686273 -73.909983   \n",
       "1             NaN                 NaN  40.650597 -73.940902   \n",
       "2             NaN                 NaN  40.856688 -73.929353   \n",
       "3             NaN                 NaN  40.832517 -73.904383   \n",
       "4             NaN                 NaN  40.852054 -73.829039   \n",
       "\n",
       "                                  Location  \n",
       "0  (40.68627299499425, -73.90998344424513)  \n",
       "1  (40.65059719448146, -73.94090158256765)  \n",
       "2  (40.85668814238739, -73.92935305837368)  \n",
       "3  (40.83251671698595, -73.90438319967464)  \n",
       "4  (40.85205433772875, -73.82903920932816)  \n",
       "\n",
       "[5 rows x 53 columns]"
      ]
     },
     "execution_count": 4,
     "metadata": {},
     "output_type": "execute_result"
    }
   ],
   "source": [
    "data.head()"
   ]
  },
  {
   "cell_type": "code",
   "execution_count": 5,
   "metadata": {
    "collapsed": false
   },
   "outputs": [
    {
     "data": {
      "text/plain": [
       "Index(['Unique Key', 'Created Date', 'Closed Date', 'Agency', 'Agency Name',\n",
       "       'Complaint Type', 'Descriptor', 'Location Type', 'Incident Zip',\n",
       "       'Incident Address', 'Street Name', 'Cross Street 1', 'Cross Street 2',\n",
       "       'Intersection Street 1', 'Intersection Street 2', 'Address Type',\n",
       "       'City', 'Landmark', 'Facility Type', 'Status', 'Due Date',\n",
       "       'Resolution Description', 'Resolution Action Updated Date',\n",
       "       'Community Board', 'Borough', 'X Coordinate (State Plane)',\n",
       "       'Y Coordinate (State Plane)', 'Park Facility Name', 'Park Borough',\n",
       "       'School Name', 'School Number', 'School Region', 'School Code',\n",
       "       'School Phone Number', 'School Address', 'School City', 'School State',\n",
       "       'School Zip', 'School Not Found', 'School or Citywide Complaint',\n",
       "       'Vehicle Type', 'Taxi Company Borough', 'Taxi Pick Up Location',\n",
       "       'Bridge Highway Name', 'Bridge Highway Direction', 'Road Ramp',\n",
       "       'Bridge Highway Segment', 'Garage Lot Name', 'Ferry Direction',\n",
       "       'Ferry Terminal Name', 'Latitude', 'Longitude', 'Location'],\n",
       "      dtype='object')"
      ]
     },
     "execution_count": 5,
     "metadata": {},
     "output_type": "execute_result"
    }
   ],
   "source": [
    "data.columns"
   ]
  },
  {
   "cell_type": "markdown",
   "metadata": {},
   "source": [
    "---"
   ]
  },
  {
   "cell_type": "markdown",
   "metadata": {},
   "source": [
    "# 3. Think about possible measurement errors\n",
    "Do you see any problems regarding possible measurement error? Think about who is represented in the data, ommissions, duplications, content error, missing data, etc. "
   ]
  },
  {
   "cell_type": "markdown",
   "metadata": {},
   "source": [
    "### Check if all Boroughs and Community Districts are represented in the Data "
   ]
  },
  {
   "cell_type": "code",
   "execution_count": 6,
   "metadata": {
    "collapsed": false
   },
   "outputs": [
    {
     "data": {
      "text/plain": [
       "array(['BROOKLYN', 'MANHATTAN', 'BRONX', 'QUEENS', 'STATEN ISLAND',\n",
       "       'Unspecified'], dtype=object)"
      ]
     },
     "execution_count": 6,
     "metadata": {},
     "output_type": "execute_result"
    }
   ],
   "source": [
    "data[\"Borough\"].unique()"
   ]
  },
  {
   "cell_type": "code",
   "execution_count": 7,
   "metadata": {
    "collapsed": false
   },
   "outputs": [
    {
     "data": {
      "text/plain": [
       "array(['04 BROOKLYN', '17 BROOKLYN', '12 MANHATTAN', '03 BRONX',\n",
       "       '10 BRONX', '01 BRONX', '07 BRONX', '04 BRONX', '01 BROOKLYN',\n",
       "       '12 BRONX', '11 BRONX', '07 MANHATTAN', '06 MANHATTAN',\n",
       "       '13 BROOKLYN', '07 QUEENS', '02 QUEENS', '02 BRONX', '08 BROOKLYN',\n",
       "       '11 BROOKLYN', '03 MANHATTAN', '02 BROOKLYN', '01 QUEENS',\n",
       "       '04 MANHATTAN', '14 BROOKLYN', '09 MANHATTAN', '06 BROOKLYN',\n",
       "       '08 MANHATTAN', '18 BROOKLYN', '11 MANHATTAN', '03 BROOKLYN',\n",
       "       '04 QUEENS', '06 QUEENS', '09 BROOKLYN', '12 QUEENS', '05 BRONX',\n",
       "       '05 BROOKLYN', '10 MANHATTAN', '11 QUEENS', '09 QUEENS',\n",
       "       '02 MANHATTAN', '08 BRONX', '10 QUEENS', '01 STATEN ISLAND',\n",
       "       '03 QUEENS', '07 BROOKLYN', '02 STATEN ISLAND', '06 BRONX',\n",
       "       '05 QUEENS', '09 BRONX', '14 QUEENS', '12 BROOKLYN', '05 MANHATTAN',\n",
       "       '15 BROOKLYN', '13 QUEENS', '03 STATEN ISLAND', '01 MANHATTAN',\n",
       "       '08 QUEENS', '10 BROOKLYN', '0 Unspecified', '16 BROOKLYN',\n",
       "       'Unspecified BROOKLYN'], dtype=object)"
      ]
     },
     "execution_count": 7,
     "metadata": {},
     "output_type": "execute_result"
    }
   ],
   "source": [
    "data[\"Community Board\"].unique()"
   ]
  },
  {
   "cell_type": "markdown",
   "metadata": {},
   "source": [
    "### How many unique values do we have?"
   ]
  },
  {
   "cell_type": "code",
   "execution_count": 8,
   "metadata": {
    "collapsed": false
   },
   "outputs": [
    {
     "data": {
      "text/plain": [
       "61"
      ]
     },
     "execution_count": 8,
     "metadata": {},
     "output_type": "execute_result"
    }
   ],
   "source": [
    "len(data[\"Community Board\"].unique())"
   ]
  },
  {
   "cell_type": "markdown",
   "metadata": {
    "collapsed": false
   },
   "source": [
    "### Why do we have so many? Some of them are unspecified, missing. Some might be invalid entries. We should have 59 Community Districts. Check for duplicates? Are these plausible?"
   ]
  },
  {
   "cell_type": "code",
   "execution_count": 9,
   "metadata": {
    "collapsed": false
   },
   "outputs": [
    {
     "data": {
      "text/plain": [
       "['0 Unspecified',\n",
       " '01 BRONX',\n",
       " '01 BROOKLYN',\n",
       " '01 MANHATTAN',\n",
       " '01 QUEENS',\n",
       " '01 STATEN ISLAND',\n",
       " '02 BRONX',\n",
       " '02 BROOKLYN',\n",
       " '02 MANHATTAN',\n",
       " '02 QUEENS',\n",
       " '02 STATEN ISLAND',\n",
       " '03 BRONX',\n",
       " '03 BROOKLYN',\n",
       " '03 MANHATTAN',\n",
       " '03 QUEENS',\n",
       " '03 STATEN ISLAND',\n",
       " '04 BRONX',\n",
       " '04 BROOKLYN',\n",
       " '04 MANHATTAN',\n",
       " '04 QUEENS',\n",
       " '05 BRONX',\n",
       " '05 BROOKLYN',\n",
       " '05 MANHATTAN',\n",
       " '05 QUEENS',\n",
       " '06 BRONX',\n",
       " '06 BROOKLYN',\n",
       " '06 MANHATTAN',\n",
       " '06 QUEENS',\n",
       " '07 BRONX',\n",
       " '07 BROOKLYN',\n",
       " '07 MANHATTAN',\n",
       " '07 QUEENS',\n",
       " '08 BRONX',\n",
       " '08 BROOKLYN',\n",
       " '08 MANHATTAN',\n",
       " '08 QUEENS',\n",
       " '09 BRONX',\n",
       " '09 BROOKLYN',\n",
       " '09 MANHATTAN',\n",
       " '09 QUEENS',\n",
       " '10 BRONX',\n",
       " '10 BROOKLYN',\n",
       " '10 MANHATTAN',\n",
       " '10 QUEENS',\n",
       " '11 BRONX',\n",
       " '11 BROOKLYN',\n",
       " '11 MANHATTAN',\n",
       " '11 QUEENS',\n",
       " '12 BRONX',\n",
       " '12 BROOKLYN',\n",
       " '12 MANHATTAN',\n",
       " '12 QUEENS',\n",
       " '13 BROOKLYN',\n",
       " '13 QUEENS',\n",
       " '14 BROOKLYN',\n",
       " '14 QUEENS',\n",
       " '15 BROOKLYN',\n",
       " '16 BROOKLYN',\n",
       " '17 BROOKLYN',\n",
       " '18 BROOKLYN',\n",
       " 'Unspecified BROOKLYN']"
      ]
     },
     "execution_count": 9,
     "metadata": {},
     "output_type": "execute_result"
    }
   ],
   "source": [
    "unique_CD = sorted(list(data[\"Community Board\"].unique()))\n",
    "unique_CD"
   ]
  },
  {
   "cell_type": "markdown",
   "metadata": {},
   "source": [
    "<img src=\"http://www.nyc.gov/html/bkncb13/images/misc/cb13-map1.gif\">"
   ]
  },
  {
   "cell_type": "markdown",
   "metadata": {},
   "source": [
    "#### The two extra values correspond to missing `Community Board` labels in Brooklyn and missing `Borough` labels (`'0 Unspecified'`)."
   ]
  },
  {
   "cell_type": "markdown",
   "metadata": {},
   "source": [
    "### What about missing values? Can you detect any patterns?"
   ]
  },
  {
   "cell_type": "code",
   "execution_count": 10,
   "metadata": {
    "collapsed": false
   },
   "outputs": [
    {
     "data": {
      "text/plain": [
       "array(['Unspecified'], dtype=object)"
      ]
     },
     "execution_count": 10,
     "metadata": {},
     "output_type": "execute_result"
    }
   ],
   "source": [
    "data[data[\"Community Board\"] == \"0 Unspecified\"].Borough.unique()"
   ]
  },
  {
   "cell_type": "code",
   "execution_count": 11,
   "metadata": {
    "collapsed": false
   },
   "outputs": [
    {
     "data": {
      "text/plain": [
       "array(['Blocked Driveway', 'DOF Literature Request',\n",
       "       'Benefit Card Replacement', 'Illegal Parking', 'Noise - Vehicle'], dtype=object)"
      ]
     },
     "execution_count": 11,
     "metadata": {},
     "output_type": "execute_result"
    }
   ],
   "source": [
    "data[data[\"Community Board\"] == \"0 Unspecified\"][\"Complaint Type\"].unique()"
   ]
  },
  {
   "cell_type": "code",
   "execution_count": 12,
   "metadata": {
    "collapsed": false
   },
   "outputs": [
    {
     "data": {
      "text/plain": [
       "array(['Consumer Complaint'], dtype=object)"
      ]
     },
     "execution_count": 12,
     "metadata": {},
     "output_type": "execute_result"
    }
   ],
   "source": [
    "data[data[\"Community Board\"] == \"Unspecified BROOKLYN\"][\"Complaint Type\"].unique()"
   ]
  },
  {
   "cell_type": "markdown",
   "metadata": {
    "collapsed": true
   },
   "source": [
    "### Data Editing: Is it possible to replace missing values? Is it possible to use `Complaint Type` to fill missings in Resolution Descriptor?"
   ]
  },
  {
   "cell_type": "code",
   "execution_count": 13,
   "metadata": {
    "collapsed": false
   },
   "outputs": [
    {
     "data": {
      "text/plain": [
       "9"
      ]
     },
     "execution_count": 13,
     "metadata": {},
     "output_type": "execute_result"
    }
   ],
   "source": [
    "data[\"Resolution Description\"].isnull().sum()"
   ]
  },
  {
   "cell_type": "code",
   "execution_count": 14,
   "metadata": {
    "collapsed": false
   },
   "outputs": [
    {
     "data": {
      "text/html": [
       "<div>\n",
       "<table border=\"1\" class=\"dataframe\">\n",
       "  <thead>\n",
       "    <tr style=\"text-align: right;\">\n",
       "      <th></th>\n",
       "      <th>Unique Key</th>\n",
       "      <th>Created Date</th>\n",
       "      <th>Closed Date</th>\n",
       "      <th>Agency</th>\n",
       "      <th>Agency Name</th>\n",
       "      <th>Complaint Type</th>\n",
       "      <th>Descriptor</th>\n",
       "      <th>Location Type</th>\n",
       "      <th>Incident Zip</th>\n",
       "      <th>Incident Address</th>\n",
       "      <th>...</th>\n",
       "      <th>Bridge Highway Name</th>\n",
       "      <th>Bridge Highway Direction</th>\n",
       "      <th>Road Ramp</th>\n",
       "      <th>Bridge Highway Segment</th>\n",
       "      <th>Garage Lot Name</th>\n",
       "      <th>Ferry Direction</th>\n",
       "      <th>Ferry Terminal Name</th>\n",
       "      <th>Latitude</th>\n",
       "      <th>Longitude</th>\n",
       "      <th>Location</th>\n",
       "    </tr>\n",
       "  </thead>\n",
       "  <tbody>\n",
       "    <tr>\n",
       "      <th>468</th>\n",
       "      <td>34710865</td>\n",
       "      <td>11/06/2016 12:43:00 AM</td>\n",
       "      <td>NaN</td>\n",
       "      <td>DOT</td>\n",
       "      <td>Department of Transportation</td>\n",
       "      <td>Street Light Condition</td>\n",
       "      <td>Street Light Out</td>\n",
       "      <td>NaN</td>\n",
       "      <td>11379.0</td>\n",
       "      <td>60-39 77 STREET</td>\n",
       "      <td>...</td>\n",
       "      <td>NaN</td>\n",
       "      <td>NaN</td>\n",
       "      <td>NaN</td>\n",
       "      <td>NaN</td>\n",
       "      <td>NaN</td>\n",
       "      <td>NaN</td>\n",
       "      <td>NaN</td>\n",
       "      <td>40.724030</td>\n",
       "      <td>-73.882845</td>\n",
       "      <td>(40.72403028271537, -73.88284542065419)</td>\n",
       "    </tr>\n",
       "    <tr>\n",
       "      <th>692</th>\n",
       "      <td>34712214</td>\n",
       "      <td>11/05/2016 11:59:00 PM</td>\n",
       "      <td>NaN</td>\n",
       "      <td>DEP</td>\n",
       "      <td>Department of Environmental Protection</td>\n",
       "      <td>Water System</td>\n",
       "      <td>Hydrant Leaking (WC1)</td>\n",
       "      <td>NaN</td>\n",
       "      <td>11206.0</td>\n",
       "      <td>124 SCHOLES STREET</td>\n",
       "      <td>...</td>\n",
       "      <td>NaN</td>\n",
       "      <td>NaN</td>\n",
       "      <td>NaN</td>\n",
       "      <td>NaN</td>\n",
       "      <td>NaN</td>\n",
       "      <td>NaN</td>\n",
       "      <td>NaN</td>\n",
       "      <td>40.708648</td>\n",
       "      <td>-73.944796</td>\n",
       "      <td>(40.708648349949975, -73.94479608707884)</td>\n",
       "    </tr>\n",
       "    <tr>\n",
       "      <th>740</th>\n",
       "      <td>34711174</td>\n",
       "      <td>11/05/2016 11:49:00 PM</td>\n",
       "      <td>NaN</td>\n",
       "      <td>DEP</td>\n",
       "      <td>Department of Environmental Protection</td>\n",
       "      <td>Noise</td>\n",
       "      <td>Noise: Construction Before/After Hours (NM1)</td>\n",
       "      <td>NaN</td>\n",
       "      <td>11369.0</td>\n",
       "      <td>22-51 98 STREET</td>\n",
       "      <td>...</td>\n",
       "      <td>NaN</td>\n",
       "      <td>NaN</td>\n",
       "      <td>NaN</td>\n",
       "      <td>NaN</td>\n",
       "      <td>NaN</td>\n",
       "      <td>NaN</td>\n",
       "      <td>NaN</td>\n",
       "      <td>40.769390</td>\n",
       "      <td>-73.872625</td>\n",
       "      <td>(40.76939017657135, -73.8726245376736)</td>\n",
       "    </tr>\n",
       "    <tr>\n",
       "      <th>779</th>\n",
       "      <td>34716504</td>\n",
       "      <td>11/05/2016 11:42:00 PM</td>\n",
       "      <td>NaN</td>\n",
       "      <td>DEP</td>\n",
       "      <td>Department of Environmental Protection</td>\n",
       "      <td>Noise</td>\n",
       "      <td>Noise: Alarms (NR3)</td>\n",
       "      <td>NaN</td>\n",
       "      <td>10473.0</td>\n",
       "      <td>950 UNDERHILL AVENUE</td>\n",
       "      <td>...</td>\n",
       "      <td>NaN</td>\n",
       "      <td>NaN</td>\n",
       "      <td>NaN</td>\n",
       "      <td>NaN</td>\n",
       "      <td>NaN</td>\n",
       "      <td>NaN</td>\n",
       "      <td>NaN</td>\n",
       "      <td>40.824694</td>\n",
       "      <td>-73.860859</td>\n",
       "      <td>(40.82469388912986, -73.86085883210954)</td>\n",
       "    </tr>\n",
       "    <tr>\n",
       "      <th>816</th>\n",
       "      <td>34716480</td>\n",
       "      <td>11/05/2016 11:37:00 PM</td>\n",
       "      <td>NaN</td>\n",
       "      <td>DEP</td>\n",
       "      <td>Department of Environmental Protection</td>\n",
       "      <td>Water System</td>\n",
       "      <td>Dirty Water (WE)</td>\n",
       "      <td>NaN</td>\n",
       "      <td>11204.0</td>\n",
       "      <td>1629 48 STREET</td>\n",
       "      <td>...</td>\n",
       "      <td>NaN</td>\n",
       "      <td>NaN</td>\n",
       "      <td>NaN</td>\n",
       "      <td>NaN</td>\n",
       "      <td>NaN</td>\n",
       "      <td>NaN</td>\n",
       "      <td>NaN</td>\n",
       "      <td>40.631068</td>\n",
       "      <td>-73.984040</td>\n",
       "      <td>(40.63106839647645, -73.98403991948065)</td>\n",
       "    </tr>\n",
       "    <tr>\n",
       "      <th>833</th>\n",
       "      <td>34715470</td>\n",
       "      <td>11/05/2016 11:35:00 PM</td>\n",
       "      <td>NaN</td>\n",
       "      <td>DEP</td>\n",
       "      <td>Department of Environmental Protection</td>\n",
       "      <td>Water System</td>\n",
       "      <td>Dirty Water (WE)</td>\n",
       "      <td>NaN</td>\n",
       "      <td>11204.0</td>\n",
       "      <td>1673 46 STREET</td>\n",
       "      <td>...</td>\n",
       "      <td>NaN</td>\n",
       "      <td>NaN</td>\n",
       "      <td>NaN</td>\n",
       "      <td>NaN</td>\n",
       "      <td>NaN</td>\n",
       "      <td>NaN</td>\n",
       "      <td>NaN</td>\n",
       "      <td>40.631738</td>\n",
       "      <td>-73.982127</td>\n",
       "      <td>(40.63173784339597, -73.98212669214058)</td>\n",
       "    </tr>\n",
       "    <tr>\n",
       "      <th>837</th>\n",
       "      <td>34711173</td>\n",
       "      <td>11/05/2016 11:34:00 PM</td>\n",
       "      <td>NaN</td>\n",
       "      <td>DEP</td>\n",
       "      <td>Department of Environmental Protection</td>\n",
       "      <td>Water System</td>\n",
       "      <td>Hydrant Running (WC3)</td>\n",
       "      <td>NaN</td>\n",
       "      <td>11214.0</td>\n",
       "      <td>NaN</td>\n",
       "      <td>...</td>\n",
       "      <td>NaN</td>\n",
       "      <td>NaN</td>\n",
       "      <td>NaN</td>\n",
       "      <td>NaN</td>\n",
       "      <td>NaN</td>\n",
       "      <td>NaN</td>\n",
       "      <td>NaN</td>\n",
       "      <td>40.613670</td>\n",
       "      <td>-73.999579</td>\n",
       "      <td>(40.61367027235992, -73.99957859080536)</td>\n",
       "    </tr>\n",
       "    <tr>\n",
       "      <th>915</th>\n",
       "      <td>34714430</td>\n",
       "      <td>11/05/2016 11:17:00 PM</td>\n",
       "      <td>NaN</td>\n",
       "      <td>DEP</td>\n",
       "      <td>Department of Environmental Protection</td>\n",
       "      <td>Water System</td>\n",
       "      <td>Dirty Water (WE)</td>\n",
       "      <td>NaN</td>\n",
       "      <td>11204.0</td>\n",
       "      <td>4610 17 AVENUE</td>\n",
       "      <td>...</td>\n",
       "      <td>NaN</td>\n",
       "      <td>NaN</td>\n",
       "      <td>NaN</td>\n",
       "      <td>NaN</td>\n",
       "      <td>NaN</td>\n",
       "      <td>NaN</td>\n",
       "      <td>NaN</td>\n",
       "      <td>40.631115</td>\n",
       "      <td>-73.981446</td>\n",
       "      <td>(40.63111466855187, -73.98144594315488)</td>\n",
       "    </tr>\n",
       "    <tr>\n",
       "      <th>997</th>\n",
       "      <td>34716503</td>\n",
       "      <td>11/05/2016 11:04:00 PM</td>\n",
       "      <td>NaN</td>\n",
       "      <td>DEP</td>\n",
       "      <td>Department of Environmental Protection</td>\n",
       "      <td>Water System</td>\n",
       "      <td>Dirty Water (WE)</td>\n",
       "      <td>NaN</td>\n",
       "      <td>11204.0</td>\n",
       "      <td>1645 43 STREET</td>\n",
       "      <td>...</td>\n",
       "      <td>NaN</td>\n",
       "      <td>NaN</td>\n",
       "      <td>NaN</td>\n",
       "      <td>NaN</td>\n",
       "      <td>NaN</td>\n",
       "      <td>NaN</td>\n",
       "      <td>NaN</td>\n",
       "      <td>40.633714</td>\n",
       "      <td>-73.980865</td>\n",
       "      <td>(40.6337138878735, -73.98086515845179)</td>\n",
       "    </tr>\n",
       "  </tbody>\n",
       "</table>\n",
       "<p>9 rows × 53 columns</p>\n",
       "</div>"
      ],
      "text/plain": [
       "     Unique Key            Created Date Closed Date Agency  \\\n",
       "468    34710865  11/06/2016 12:43:00 AM         NaN    DOT   \n",
       "692    34712214  11/05/2016 11:59:00 PM         NaN    DEP   \n",
       "740    34711174  11/05/2016 11:49:00 PM         NaN    DEP   \n",
       "779    34716504  11/05/2016 11:42:00 PM         NaN    DEP   \n",
       "816    34716480  11/05/2016 11:37:00 PM         NaN    DEP   \n",
       "833    34715470  11/05/2016 11:35:00 PM         NaN    DEP   \n",
       "837    34711173  11/05/2016 11:34:00 PM         NaN    DEP   \n",
       "915    34714430  11/05/2016 11:17:00 PM         NaN    DEP   \n",
       "997    34716503  11/05/2016 11:04:00 PM         NaN    DEP   \n",
       "\n",
       "                                Agency Name          Complaint Type  \\\n",
       "468            Department of Transportation  Street Light Condition   \n",
       "692  Department of Environmental Protection            Water System   \n",
       "740  Department of Environmental Protection                   Noise   \n",
       "779  Department of Environmental Protection                   Noise   \n",
       "816  Department of Environmental Protection            Water System   \n",
       "833  Department of Environmental Protection            Water System   \n",
       "837  Department of Environmental Protection            Water System   \n",
       "915  Department of Environmental Protection            Water System   \n",
       "997  Department of Environmental Protection            Water System   \n",
       "\n",
       "                                       Descriptor Location Type  Incident Zip  \\\n",
       "468                              Street Light Out           NaN       11379.0   \n",
       "692                         Hydrant Leaking (WC1)           NaN       11206.0   \n",
       "740  Noise: Construction Before/After Hours (NM1)           NaN       11369.0   \n",
       "779                           Noise: Alarms (NR3)           NaN       10473.0   \n",
       "816                              Dirty Water (WE)           NaN       11204.0   \n",
       "833                              Dirty Water (WE)           NaN       11204.0   \n",
       "837                         Hydrant Running (WC3)           NaN       11214.0   \n",
       "915                              Dirty Water (WE)           NaN       11204.0   \n",
       "997                              Dirty Water (WE)           NaN       11204.0   \n",
       "\n",
       "         Incident Address                    ...                     \\\n",
       "468       60-39 77 STREET                    ...                      \n",
       "692    124 SCHOLES STREET                    ...                      \n",
       "740       22-51 98 STREET                    ...                      \n",
       "779  950 UNDERHILL AVENUE                    ...                      \n",
       "816        1629 48 STREET                    ...                      \n",
       "833        1673 46 STREET                    ...                      \n",
       "837                   NaN                    ...                      \n",
       "915        4610 17 AVENUE                    ...                      \n",
       "997        1645 43 STREET                    ...                      \n",
       "\n",
       "    Bridge Highway Name Bridge Highway Direction Road Ramp  \\\n",
       "468                 NaN                      NaN       NaN   \n",
       "692                 NaN                      NaN       NaN   \n",
       "740                 NaN                      NaN       NaN   \n",
       "779                 NaN                      NaN       NaN   \n",
       "816                 NaN                      NaN       NaN   \n",
       "833                 NaN                      NaN       NaN   \n",
       "837                 NaN                      NaN       NaN   \n",
       "915                 NaN                      NaN       NaN   \n",
       "997                 NaN                      NaN       NaN   \n",
       "\n",
       "    Bridge Highway Segment Garage Lot Name Ferry Direction  \\\n",
       "468                    NaN             NaN             NaN   \n",
       "692                    NaN             NaN             NaN   \n",
       "740                    NaN             NaN             NaN   \n",
       "779                    NaN             NaN             NaN   \n",
       "816                    NaN             NaN             NaN   \n",
       "833                    NaN             NaN             NaN   \n",
       "837                    NaN             NaN             NaN   \n",
       "915                    NaN             NaN             NaN   \n",
       "997                    NaN             NaN             NaN   \n",
       "\n",
       "    Ferry Terminal Name   Latitude  Longitude  \\\n",
       "468                 NaN  40.724030 -73.882845   \n",
       "692                 NaN  40.708648 -73.944796   \n",
       "740                 NaN  40.769390 -73.872625   \n",
       "779                 NaN  40.824694 -73.860859   \n",
       "816                 NaN  40.631068 -73.984040   \n",
       "833                 NaN  40.631738 -73.982127   \n",
       "837                 NaN  40.613670 -73.999579   \n",
       "915                 NaN  40.631115 -73.981446   \n",
       "997                 NaN  40.633714 -73.980865   \n",
       "\n",
       "                                     Location  \n",
       "468   (40.72403028271537, -73.88284542065419)  \n",
       "692  (40.708648349949975, -73.94479608707884)  \n",
       "740    (40.76939017657135, -73.8726245376736)  \n",
       "779   (40.82469388912986, -73.86085883210954)  \n",
       "816   (40.63106839647645, -73.98403991948065)  \n",
       "833   (40.63173784339597, -73.98212669214058)  \n",
       "837   (40.61367027235992, -73.99957859080536)  \n",
       "915   (40.63111466855187, -73.98144594315488)  \n",
       "997    (40.6337138878735, -73.98086515845179)  \n",
       "\n",
       "[9 rows x 53 columns]"
      ]
     },
     "execution_count": 14,
     "metadata": {},
     "output_type": "execute_result"
    }
   ],
   "source": [
    "data[data[\"Resolution Description\"].isnull()]"
   ]
  },
  {
   "cell_type": "code",
   "execution_count": 15,
   "metadata": {
    "collapsed": false
   },
   "outputs": [
    {
     "data": {
      "text/plain": [
       "468    NaN\n",
       "Name: Resolution Description, dtype: object"
      ]
     },
     "execution_count": 15,
     "metadata": {},
     "output_type": "execute_result"
    }
   ],
   "source": [
    "ct = data[data[\"Resolution Description\"].isnull()][\"Complaint Type\"].unique()\n",
    "data[data[\"Complaint Type\"] == ct[0]][\"Resolution Description\"]"
   ]
  },
  {
   "cell_type": "code",
   "execution_count": 16,
   "metadata": {
    "collapsed": false
   },
   "outputs": [
    {
     "data": {
      "text/plain": [
       "692    NaN\n",
       "816    NaN\n",
       "833    NaN\n",
       "837    NaN\n",
       "915    NaN\n",
       "997    NaN\n",
       "Name: Resolution Description, dtype: object"
      ]
     },
     "execution_count": 16,
     "metadata": {},
     "output_type": "execute_result"
    }
   ],
   "source": [
    "data[data[\"Complaint Type\"] == ct[1]][\"Resolution Description\"]"
   ]
  },
  {
   "cell_type": "code",
   "execution_count": 17,
   "metadata": {
    "collapsed": false
   },
   "outputs": [
    {
     "data": {
      "text/plain": [
       "740    NaN\n",
       "779    NaN\n",
       "Name: Resolution Description, dtype: object"
      ]
     },
     "execution_count": 17,
     "metadata": {},
     "output_type": "execute_result"
    }
   ],
   "source": [
    "data[data[\"Complaint Type\"] == ct[2]][\"Resolution Description\"]"
   ]
  },
  {
   "cell_type": "markdown",
   "metadata": {},
   "source": [
    "#### No this would not be possible since all `Resolution Description` for these particular `Complaint Type` are missing."
   ]
  },
  {
   "cell_type": "markdown",
   "metadata": {
    "collapsed": false
   },
   "source": [
    "### Generate marker for unplausible Community Districts. How do these districts look like?"
   ]
  },
  {
   "cell_type": "code",
   "execution_count": 18,
   "metadata": {
    "collapsed": false
   },
   "outputs": [],
   "source": [
    "SI = ['0' + str(i) + ' STATEN ISLAND' if len(str(i)) == 1 else str(i) + ' STATEN ISLAND' for i in range(1,4)]\n",
    "BK = ['0' + str(i) + ' BROOKLYN' if len(str(i)) == 1 else str(i) + ' BROOKLYN' for i in range(1,19)]\n",
    "MN = ['0' + str(i) + ' MANHATTAN' if len(str(i)) == 1 else str(i) + ' MANHATTAN' for i in range(1,13)]\n",
    "BX = ['0' + str(i) + ' BRONX' if len(str(i)) == 1 else str(i) + ' BRONX' for i in range(1,13)]\n",
    "QN = ['0' + str(i) + ' QUEENS' if len(str(i)) == 1 else str(i) + ' QUEENS' for i in range(1,15)]"
   ]
  },
  {
   "cell_type": "code",
   "execution_count": 19,
   "metadata": {
    "collapsed": false
   },
   "outputs": [
    {
     "name": "stdout",
     "output_type": "stream",
     "text": [
      "['01 MANHATTAN', '02 MANHATTAN', '03 MANHATTAN', '04 MANHATTAN', '05 MANHATTAN', '06 MANHATTAN', '07 MANHATTAN', '08 MANHATTAN', '09 MANHATTAN', '10 MANHATTAN', '11 MANHATTAN', '12 MANHATTAN']\n"
     ]
    }
   ],
   "source": [
    "print(MN)"
   ]
  },
  {
   "cell_type": "code",
   "execution_count": 20,
   "metadata": {
    "collapsed": true
   },
   "outputs": [],
   "source": [
    "plausible = SI + MN + BK + BX + QN"
   ]
  },
  {
   "cell_type": "markdown",
   "metadata": {
    "collapsed": true
   },
   "source": [
    "### Drop the marked districts"
   ]
  },
  {
   "cell_type": "code",
   "execution_count": 21,
   "metadata": {
    "collapsed": false
   },
   "outputs": [],
   "source": [
    "index = [];\n",
    "for i in range(len(data)):\n",
    "    if data.iloc[i,:][\"Community Board\"] in plausible:\n",
    "        index.append(i)"
   ]
  },
  {
   "cell_type": "code",
   "execution_count": 22,
   "metadata": {
    "collapsed": false
   },
   "outputs": [],
   "source": [
    "data = data.iloc[index,:]"
   ]
  },
  {
   "cell_type": "markdown",
   "metadata": {
    "collapsed": true
   },
   "source": [
    "### Produce your result: Generate an indicator which ranks the Community District by complaint numbers on the Community district level. Save reduced data frame (Community District level)"
   ]
  },
  {
   "cell_type": "code",
   "execution_count": 23,
   "metadata": {
    "collapsed": true
   },
   "outputs": [],
   "source": [
    "data2 = data.groupby(\"Community Board\").count()"
   ]
  },
  {
   "cell_type": "code",
   "execution_count": 24,
   "metadata": {
    "collapsed": false
   },
   "outputs": [],
   "source": [
    "data2.reset_index(inplace = True)\n",
    "data2 = data2.iloc[:,:2]\n",
    "data2.rename(columns = {\"Unique Key\": \"Number of Complaints\"}, inplace = True)"
   ]
  },
  {
   "cell_type": "code",
   "execution_count": 25,
   "metadata": {
    "collapsed": false
   },
   "outputs": [
    {
     "data": {
      "text/html": [
       "<div>\n",
       "<table border=\"1\" class=\"dataframe\">\n",
       "  <thead>\n",
       "    <tr style=\"text-align: right;\">\n",
       "      <th></th>\n",
       "      <th>Community Board</th>\n",
       "      <th>Number of Complaints</th>\n",
       "    </tr>\n",
       "  </thead>\n",
       "  <tbody>\n",
       "    <tr>\n",
       "      <th>0</th>\n",
       "      <td>01 BRONX</td>\n",
       "      <td>25</td>\n",
       "    </tr>\n",
       "    <tr>\n",
       "      <th>1</th>\n",
       "      <td>01 BROOKLYN</td>\n",
       "      <td>32</td>\n",
       "    </tr>\n",
       "    <tr>\n",
       "      <th>2</th>\n",
       "      <td>01 MANHATTAN</td>\n",
       "      <td>5</td>\n",
       "    </tr>\n",
       "    <tr>\n",
       "      <th>3</th>\n",
       "      <td>01 QUEENS</td>\n",
       "      <td>32</td>\n",
       "    </tr>\n",
       "    <tr>\n",
       "      <th>4</th>\n",
       "      <td>01 STATEN ISLAND</td>\n",
       "      <td>8</td>\n",
       "    </tr>\n",
       "  </tbody>\n",
       "</table>\n",
       "</div>"
      ],
      "text/plain": [
       "    Community Board  Number of Complaints\n",
       "0          01 BRONX                    25\n",
       "1       01 BROOKLYN                    32\n",
       "2      01 MANHATTAN                     5\n",
       "3         01 QUEENS                    32\n",
       "4  01 STATEN ISLAND                     8"
      ]
     },
     "execution_count": 25,
     "metadata": {},
     "output_type": "execute_result"
    }
   ],
   "source": [
    "data2.head()"
   ]
  },
  {
   "cell_type": "code",
   "execution_count": null,
   "metadata": {
    "collapsed": true
   },
   "outputs": [],
   "source": [
    "# data2.to_csv(\"data2.csv\")"
   ]
  },
  {
   "cell_type": "markdown",
   "metadata": {},
   "source": [
    "---"
   ]
  },
  {
   "cell_type": "markdown",
   "metadata": {},
   "source": [
    "# 4. Think about the interpretation of your results?\n",
    "What do you have to keep in mind when interpreting your results? Are they generable? Does the way the data is collected influence your results? To better inform city agancies it might be good to explore in more detail the underlying dempgraphics/infrastructure of a Community District becasue this might influence 311 calls. You can do this by merging external data on the Community District level to your analysis data. "
   ]
  },
  {
   "cell_type": "markdown",
   "metadata": {
    "collapsed": false
   },
   "source": [
    "### Population by Community District"
   ]
  },
  {
   "cell_type": "code",
   "execution_count": null,
   "metadata": {
    "collapsed": true
   },
   "outputs": [],
   "source": [
    "df_pop = pd.read_csv(\"http://cosmo.nyu.edu/~fb55/PUI2016/data/Final_Demographics.csv\")"
   ]
  },
  {
   "cell_type": "markdown",
   "metadata": {
    "collapsed": false
   },
   "source": [
    "### Check variables in file"
   ]
  },
  {
   "cell_type": "code",
   "execution_count": 43,
   "metadata": {
    "collapsed": false
   },
   "outputs": [
    {
     "data": {
      "text/plain": [
       "(59, 158)"
      ]
     },
     "execution_count": 43,
     "metadata": {},
     "output_type": "execute_result"
    }
   ],
   "source": [
    "df_pop.shape"
   ]
  },
  {
   "cell_type": "code",
   "execution_count": 42,
   "metadata": {
    "collapsed": false
   },
   "outputs": [
    {
     "data": {
      "text/plain": [
       "Index(['FIPS', 'cd_id', 'Total Population',\n",
       "       'Population Density (per sq. mile)', '% Total Population: Male',\n",
       "       '% Total Population: 18 to 24 Years',\n",
       "       '% Total Population: 25 to 34 Years',\n",
       "       '% Total Population: 35 to 44 Years',\n",
       "       '% Population 5 Years And Over: Speak Only English',\n",
       "       '% Population 5 Years And Over: Spanish or Spanish Creole',\n",
       "       ...\n",
       "       'Employed Civilian Population 16 Years And Over: Production, transportation, and material moving  occupations: Production occupations',\n",
       "       'Employed Civilian Population 16 Years And Over: Production, transportation, and material moving  occupations: Transportation and material moving occupations',\n",
       "       '% Employed Civilian Population 16 Years And Over: Management, professional, and related occupations',\n",
       "       '% Employed Civilian Population 16 Years And Over: Service occupations',\n",
       "       '% Employed Civilian Population 16 Years And Over: Sales and office occupations',\n",
       "       '% Employed Civilian Population 16 Years And Over: Farming, fishing, and forestry occupations',\n",
       "       '% Employed Civilian Population 16 Years And Over: Construction, extraction, and maintenance  occupations',\n",
       "       '% Employed Civilian Population 16 Years And Over: Production, transportation, and material moving  occupations',\n",
       "       '% Employed Civilian Population 16 Years And Over: Production, transportation, and material moving  occupations: Production occupations',\n",
       "       '% Employed Civilian Population 16 Years And Over: Production, transportation, and material moving  occupations: Transportation and material moving occupations'],\n",
       "      dtype='object', length=158)"
      ]
     },
     "execution_count": 42,
     "metadata": {},
     "output_type": "execute_result"
    }
   ],
   "source": [
    "df_pop.columns"
   ]
  },
  {
   "cell_type": "code",
   "execution_count": 44,
   "metadata": {
    "collapsed": false
   },
   "outputs": [
    {
     "data": {
      "text/html": [
       "<div>\n",
       "<table border=\"1\" class=\"dataframe\">\n",
       "  <thead>\n",
       "    <tr style=\"text-align: right;\">\n",
       "      <th></th>\n",
       "      <th>FIPS</th>\n",
       "      <th>cd_id</th>\n",
       "      <th>Total Population</th>\n",
       "      <th>Population Density (per sq. mile)</th>\n",
       "      <th>% Total Population: Male</th>\n",
       "      <th>% Total Population: 18 to 24 Years</th>\n",
       "      <th>% Total Population: 25 to 34 Years</th>\n",
       "      <th>% Total Population: 35 to 44 Years</th>\n",
       "      <th>% Population 5 Years And Over: Speak Only English</th>\n",
       "      <th>% Population 5 Years And Over: Spanish or Spanish Creole</th>\n",
       "      <th>...</th>\n",
       "      <th>Employed Civilian Population 16 Years And Over: Production, transportation, and material moving  occupations: Production occupations</th>\n",
       "      <th>Employed Civilian Population 16 Years And Over: Production, transportation, and material moving  occupations: Transportation and material moving occupations</th>\n",
       "      <th>% Employed Civilian Population 16 Years And Over: Management, professional, and related occupations</th>\n",
       "      <th>% Employed Civilian Population 16 Years And Over: Service occupations</th>\n",
       "      <th>% Employed Civilian Population 16 Years And Over: Sales and office occupations</th>\n",
       "      <th>% Employed Civilian Population 16 Years And Over: Farming, fishing, and forestry occupations</th>\n",
       "      <th>% Employed Civilian Population 16 Years And Over: Construction, extraction, and maintenance  occupations</th>\n",
       "      <th>% Employed Civilian Population 16 Years And Over: Production, transportation, and material moving  occupations</th>\n",
       "      <th>% Employed Civilian Population 16 Years And Over: Production, transportation, and material moving  occupations: Production occupations</th>\n",
       "      <th>% Employed Civilian Population 16 Years And Over: Production, transportation, and material moving  occupations: Transportation and material moving occupations</th>\n",
       "    </tr>\n",
       "  </thead>\n",
       "  <tbody>\n",
       "    <tr>\n",
       "      <th>0</th>\n",
       "      <td>3603701</td>\n",
       "      <td>BX08</td>\n",
       "      <td>106737</td>\n",
       "      <td>31229.95006</td>\n",
       "      <td>46.65</td>\n",
       "      <td>10.73</td>\n",
       "      <td>15.04</td>\n",
       "      <td>11.32</td>\n",
       "      <td>46.80</td>\n",
       "      <td>39.24</td>\n",
       "      <td>...</td>\n",
       "      <td>665</td>\n",
       "      <td>1518</td>\n",
       "      <td>42.66</td>\n",
       "      <td>28.95</td>\n",
       "      <td>20.89</td>\n",
       "      <td>0.24</td>\n",
       "      <td>2.65</td>\n",
       "      <td>4.60</td>\n",
       "      <td>1.40</td>\n",
       "      <td>3.20</td>\n",
       "    </tr>\n",
       "    <tr>\n",
       "      <th>1</th>\n",
       "      <td>3603702</td>\n",
       "      <td>BX12</td>\n",
       "      <td>134644</td>\n",
       "      <td>19966.67839</td>\n",
       "      <td>46.35</td>\n",
       "      <td>11.35</td>\n",
       "      <td>14.29</td>\n",
       "      <td>12.57</td>\n",
       "      <td>73.09</td>\n",
       "      <td>18.19</td>\n",
       "      <td>...</td>\n",
       "      <td>1156</td>\n",
       "      <td>4174</td>\n",
       "      <td>29.57</td>\n",
       "      <td>33.98</td>\n",
       "      <td>20.40</td>\n",
       "      <td>0.00</td>\n",
       "      <td>7.08</td>\n",
       "      <td>8.97</td>\n",
       "      <td>1.95</td>\n",
       "      <td>7.02</td>\n",
       "    </tr>\n",
       "    <tr>\n",
       "      <th>2</th>\n",
       "      <td>3603703</td>\n",
       "      <td>BX10</td>\n",
       "      <td>121209</td>\n",
       "      <td>12913.81703</td>\n",
       "      <td>45.20</td>\n",
       "      <td>8.62</td>\n",
       "      <td>13.74</td>\n",
       "      <td>12.78</td>\n",
       "      <td>61.79</td>\n",
       "      <td>26.43</td>\n",
       "      <td>...</td>\n",
       "      <td>941</td>\n",
       "      <td>3433</td>\n",
       "      <td>36.20</td>\n",
       "      <td>22.85</td>\n",
       "      <td>25.09</td>\n",
       "      <td>0.00</td>\n",
       "      <td>7.68</td>\n",
       "      <td>8.18</td>\n",
       "      <td>1.76</td>\n",
       "      <td>6.42</td>\n",
       "    </tr>\n",
       "    <tr>\n",
       "      <th>3</th>\n",
       "      <td>3603704</td>\n",
       "      <td>BX11</td>\n",
       "      <td>135839</td>\n",
       "      <td>35677.95453</td>\n",
       "      <td>50.09</td>\n",
       "      <td>8.10</td>\n",
       "      <td>17.43</td>\n",
       "      <td>14.09</td>\n",
       "      <td>43.22</td>\n",
       "      <td>36.45</td>\n",
       "      <td>...</td>\n",
       "      <td>2189</td>\n",
       "      <td>5592</td>\n",
       "      <td>30.06</td>\n",
       "      <td>27.86</td>\n",
       "      <td>22.24</td>\n",
       "      <td>0.00</td>\n",
       "      <td>7.03</td>\n",
       "      <td>12.81</td>\n",
       "      <td>3.60</td>\n",
       "      <td>9.20</td>\n",
       "    </tr>\n",
       "    <tr>\n",
       "      <th>4</th>\n",
       "      <td>3603705</td>\n",
       "      <td>BX03</td>\n",
       "      <td>172247</td>\n",
       "      <td>39405.79222</td>\n",
       "      <td>44.72</td>\n",
       "      <td>14.24</td>\n",
       "      <td>14.89</td>\n",
       "      <td>12.38</td>\n",
       "      <td>36.82</td>\n",
       "      <td>54.24</td>\n",
       "      <td>...</td>\n",
       "      <td>1437</td>\n",
       "      <td>5436</td>\n",
       "      <td>16.80</td>\n",
       "      <td>41.00</td>\n",
       "      <td>22.29</td>\n",
       "      <td>0.03</td>\n",
       "      <td>8.45</td>\n",
       "      <td>11.43</td>\n",
       "      <td>2.39</td>\n",
       "      <td>9.04</td>\n",
       "    </tr>\n",
       "  </tbody>\n",
       "</table>\n",
       "<p>5 rows × 158 columns</p>\n",
       "</div>"
      ],
      "text/plain": [
       "      FIPS cd_id  Total Population  Population Density (per sq. mile)  \\\n",
       "0  3603701  BX08            106737                        31229.95006   \n",
       "1  3603702  BX12            134644                        19966.67839   \n",
       "2  3603703  BX10            121209                        12913.81703   \n",
       "3  3603704  BX11            135839                        35677.95453   \n",
       "4  3603705  BX03            172247                        39405.79222   \n",
       "\n",
       "   % Total Population: Male  % Total Population: 18 to 24 Years  \\\n",
       "0                     46.65                               10.73   \n",
       "1                     46.35                               11.35   \n",
       "2                     45.20                                8.62   \n",
       "3                     50.09                                8.10   \n",
       "4                     44.72                               14.24   \n",
       "\n",
       "   % Total Population: 25 to 34 Years  % Total Population: 35 to 44 Years  \\\n",
       "0                               15.04                               11.32   \n",
       "1                               14.29                               12.57   \n",
       "2                               13.74                               12.78   \n",
       "3                               17.43                               14.09   \n",
       "4                               14.89                               12.38   \n",
       "\n",
       "   % Population 5 Years And Over: Speak Only English  \\\n",
       "0                                              46.80   \n",
       "1                                              73.09   \n",
       "2                                              61.79   \n",
       "3                                              43.22   \n",
       "4                                              36.82   \n",
       "\n",
       "   % Population 5 Years And Over: Spanish or Spanish Creole  \\\n",
       "0                                              39.24          \n",
       "1                                              18.19          \n",
       "2                                              26.43          \n",
       "3                                              36.45          \n",
       "4                                              54.24          \n",
       "\n",
       "                                                                                ...                                                                                \\\n",
       "0                                                                               ...                                                                                 \n",
       "1                                                                               ...                                                                                 \n",
       "2                                                                               ...                                                                                 \n",
       "3                                                                               ...                                                                                 \n",
       "4                                                                               ...                                                                                 \n",
       "\n",
       "   Employed Civilian Population 16 Years And Over: Production, transportation, and material moving  occupations: Production occupations  \\\n",
       "0                                                665                                                                                      \n",
       "1                                               1156                                                                                      \n",
       "2                                                941                                                                                      \n",
       "3                                               2189                                                                                      \n",
       "4                                               1437                                                                                      \n",
       "\n",
       "   Employed Civilian Population 16 Years And Over: Production, transportation, and material moving  occupations: Transportation and material moving occupations  \\\n",
       "0                                               1518                                                                                                              \n",
       "1                                               4174                                                                                                              \n",
       "2                                               3433                                                                                                              \n",
       "3                                               5592                                                                                                              \n",
       "4                                               5436                                                                                                              \n",
       "\n",
       "   % Employed Civilian Population 16 Years And Over: Management, professional, and related occupations  \\\n",
       "0                                              42.66                                                     \n",
       "1                                              29.57                                                     \n",
       "2                                              36.20                                                     \n",
       "3                                              30.06                                                     \n",
       "4                                              16.80                                                     \n",
       "\n",
       "   % Employed Civilian Population 16 Years And Over: Service occupations  \\\n",
       "0                                              28.95                       \n",
       "1                                              33.98                       \n",
       "2                                              22.85                       \n",
       "3                                              27.86                       \n",
       "4                                              41.00                       \n",
       "\n",
       "   % Employed Civilian Population 16 Years And Over: Sales and office occupations  \\\n",
       "0                                              20.89                                \n",
       "1                                              20.40                                \n",
       "2                                              25.09                                \n",
       "3                                              22.24                                \n",
       "4                                              22.29                                \n",
       "\n",
       "   % Employed Civilian Population 16 Years And Over: Farming, fishing, and forestry occupations  \\\n",
       "0                                               0.24                                              \n",
       "1                                               0.00                                              \n",
       "2                                               0.00                                              \n",
       "3                                               0.00                                              \n",
       "4                                               0.03                                              \n",
       "\n",
       "   % Employed Civilian Population 16 Years And Over: Construction, extraction, and maintenance  occupations  \\\n",
       "0                                               2.65                                                          \n",
       "1                                               7.08                                                          \n",
       "2                                               7.68                                                          \n",
       "3                                               7.03                                                          \n",
       "4                                               8.45                                                          \n",
       "\n",
       "   % Employed Civilian Population 16 Years And Over: Production, transportation, and material moving  occupations  \\\n",
       "0                                               4.60                                                                \n",
       "1                                               8.97                                                                \n",
       "2                                               8.18                                                                \n",
       "3                                              12.81                                                                \n",
       "4                                              11.43                                                                \n",
       "\n",
       "   % Employed Civilian Population 16 Years And Over: Production, transportation, and material moving  occupations: Production occupations  \\\n",
       "0                                               1.40                                                                                        \n",
       "1                                               1.95                                                                                        \n",
       "2                                               1.76                                                                                        \n",
       "3                                               3.60                                                                                        \n",
       "4                                               2.39                                                                                        \n",
       "\n",
       "   % Employed Civilian Population 16 Years And Over: Production, transportation, and material moving  occupations: Transportation and material moving occupations  \n",
       "0                                               3.20                                                                                                               \n",
       "1                                               7.02                                                                                                               \n",
       "2                                               6.42                                                                                                               \n",
       "3                                               9.20                                                                                                               \n",
       "4                                               9.04                                                                                                               \n",
       "\n",
       "[5 rows x 158 columns]"
      ]
     },
     "execution_count": 44,
     "metadata": {},
     "output_type": "execute_result"
    }
   ],
   "source": [
    "df_pop.head()"
   ]
  },
  {
   "cell_type": "markdown",
   "metadata": {
    "collapsed": false
   },
   "source": [
    "### How many community districts are in file? "
   ]
  },
  {
   "cell_type": "code",
   "execution_count": 46,
   "metadata": {
    "collapsed": false
   },
   "outputs": [
    {
     "data": {
      "text/plain": [
       "0        BX08\n",
       "1        BX12\n",
       "2        BX10\n",
       "3        BX11\n",
       "4        BX03\n",
       "5        BX06\n",
       "6        BX07\n",
       "7        BX05\n",
       "8        BX04\n",
       "9        BX09\n",
       "10       BX01\n",
       "11       BX02\n",
       "12       MN12\n",
       "13       MN09\n",
       "14       MN10\n",
       "15    MN11111\n",
       "16       MN08\n",
       "17       MN07\n",
       "18       MN05\n",
       "19       MN04\n",
       "20       MN06\n",
       "21       MN03\n",
       "22       MN01\n",
       "23       MN02\n",
       "24       SI03\n",
       "25       SI02\n",
       "26       SI01\n",
       "27       BK01\n",
       "28       BK04\n",
       "29       BK03\n",
       "30       BK02\n",
       "31       BK06\n",
       "32       BK08\n",
       "33       BK16\n",
       "34       BK05\n",
       "35       BK18\n",
       "36       BK17\n",
       "37       BK09\n",
       "38       BK07\n",
       "39       BK10\n",
       "40       BK12\n",
       "41       BK14\n",
       "42       BK15\n",
       "43       BK11\n",
       "44       BK13\n",
       "45       QN01\n",
       "46       QN03\n",
       "47       QN07\n",
       "48       QN11\n",
       "49       QN13\n",
       "50       QN08\n",
       "51       QN04\n",
       "52       QN06\n",
       "53       QN02\n",
       "54       QN05\n",
       "55       QN09\n",
       "56       QN12\n",
       "57       QN10\n",
       "58       QN14\n",
       "Name: cd_id, dtype: object"
      ]
     },
     "execution_count": 46,
     "metadata": {},
     "output_type": "execute_result"
    }
   ],
   "source": [
    "df_pop[\"cd_id\"]"
   ]
  },
  {
   "cell_type": "markdown",
   "metadata": {
    "collapsed": true
   },
   "source": [
    "### Manipulate data to get some information on demographics by Community District. Think about who might be more likely to call 311"
   ]
  },
  {
   "cell_type": "code",
   "execution_count": 52,
   "metadata": {
    "collapsed": true
   },
   "outputs": [],
   "source": [
    "SI2 = ['SI0' + str(i) if len(str(i)) == 1 else 'SI' + str(i) for i in range(1,4)]\n",
    "BK2 = ['BK0' + str(i) if len(str(i)) == 1 else 'BK' + str(i) for i in range(1,19)]\n",
    "MN2 = ['MN0' + str(i) if len(str(i)) == 1 else 'MN' + str(i) for i in range(1,13)]\n",
    "BX2 = ['BX0' + str(i) if len(str(i)) == 1 else 'BX' + str(i) for i in range(1,13)]\n",
    "QN2 = ['QN0' + str(i) if len(str(i)) == 1 else 'QN' + str(i) for i in range(1,15)]"
   ]
  },
  {
   "cell_type": "code",
   "execution_count": 53,
   "metadata": {
    "collapsed": true
   },
   "outputs": [],
   "source": [
    "plausible2 = SI2 + BK2 + MN2 + BX2 + QN2"
   ]
  },
  {
   "cell_type": "code",
   "execution_count": 59,
   "metadata": {
    "collapsed": true
   },
   "outputs": [],
   "source": [
    "index = [];\n",
    "for i in range(len(df_pop)):\n",
    "    if df_pop.iloc[i,:][\"cd_id\"] not in plausible2:\n",
    "        index.append(i)"
   ]
  },
  {
   "cell_type": "code",
   "execution_count": 62,
   "metadata": {
    "collapsed": false
   },
   "outputs": [
    {
     "name": "stderr",
     "output_type": "stream",
     "text": [
      "/opt/rh/anaconda/root/envs/PUI2016_Python3/lib/python3.5/site-packages/ipykernel/__main__.py:1: SettingWithCopyWarning: \n",
      "A value is trying to be set on a copy of a slice from a DataFrame\n",
      "\n",
      "See the caveats in the documentation: http://pandas.pydata.org/pandas-docs/stable/indexing.html#indexing-view-versus-copy\n",
      "  if __name__ == '__main__':\n"
     ]
    }
   ],
   "source": [
    "df_pop[\"cd_id\"][index] = 'MN11'"
   ]
  },
  {
   "cell_type": "code",
   "execution_count": 83,
   "metadata": {
    "collapsed": false
   },
   "outputs": [
    {
     "name": "stderr",
     "output_type": "stream",
     "text": [
      "/opt/rh/anaconda/root/envs/PUI2016_Python3/lib/python3.5/site-packages/ipykernel/__main__.py:9: SettingWithCopyWarning: \n",
      "A value is trying to be set on a copy of a slice from a DataFrame\n",
      "\n",
      "See the caveats in the documentation: http://pandas.pydata.org/pandas-docs/stable/indexing.html#indexing-view-versus-copy\n",
      "/opt/rh/anaconda/root/envs/PUI2016_Python3/lib/python3.5/site-packages/ipykernel/__main__.py:7: SettingWithCopyWarning: \n",
      "A value is trying to be set on a copy of a slice from a DataFrame\n",
      "\n",
      "See the caveats in the documentation: http://pandas.pydata.org/pandas-docs/stable/indexing.html#indexing-view-versus-copy\n",
      "/opt/rh/anaconda/root/envs/PUI2016_Python3/lib/python3.5/site-packages/ipykernel/__main__.py:5: SettingWithCopyWarning: \n",
      "A value is trying to be set on a copy of a slice from a DataFrame\n",
      "\n",
      "See the caveats in the documentation: http://pandas.pydata.org/pandas-docs/stable/indexing.html#indexing-view-versus-copy\n",
      "/opt/rh/anaconda/root/envs/PUI2016_Python3/lib/python3.5/site-packages/ipykernel/__main__.py:3: SettingWithCopyWarning: \n",
      "A value is trying to be set on a copy of a slice from a DataFrame\n",
      "\n",
      "See the caveats in the documentation: http://pandas.pydata.org/pandas-docs/stable/indexing.html#indexing-view-versus-copy\n",
      "  app.launch_new_instance()\n",
      "/opt/rh/anaconda/root/envs/PUI2016_Python3/lib/python3.5/site-packages/ipykernel/__main__.py:11: SettingWithCopyWarning: \n",
      "A value is trying to be set on a copy of a slice from a DataFrame\n",
      "\n",
      "See the caveats in the documentation: http://pandas.pydata.org/pandas-docs/stable/indexing.html#indexing-view-versus-copy\n"
     ]
    }
   ],
   "source": [
    "for i in range(len(df_pop)):\n",
    "    if df_pop[\"cd_id\"][i][:2] == \"BK\":\n",
    "        df_pop[\"cd_id\"][i] = df_pop[\"cd_id\"][i][2:] + ' BROOKLYN'\n",
    "    elif df_pop[\"cd_id\"][i][:2] == \"SI\":\n",
    "        df_pop[\"cd_id\"][i] = df_pop[\"cd_id\"][i][2:] + ' STATEN ISLAND'\n",
    "    elif df_pop[\"cd_id\"][i][:2] == \"MN\":\n",
    "        df_pop[\"cd_id\"][i] = df_pop[\"cd_id\"][i][2:] + ' MANHATTAN'\n",
    "    elif df_pop[\"cd_id\"][i][:2] == \"BX\":\n",
    "        df_pop[\"cd_id\"][i] = df_pop[\"cd_id\"][i][2:] + ' BRONX'\n",
    "    elif df_pop[\"cd_id\"][i][:2] == \"QN\":\n",
    "        df_pop[\"cd_id\"][i] = df_pop[\"cd_id\"][i][2:] + ' QUEENS'"
   ]
  },
  {
   "cell_type": "code",
   "execution_count": 87,
   "metadata": {
    "collapsed": false
   },
   "outputs": [],
   "source": [
    "data3 = pd.merge(data2, df_pop, left_on=\"Community Board\", right_on=\"cd_id\")"
   ]
  },
  {
   "cell_type": "code",
   "execution_count": 88,
   "metadata": {
    "collapsed": true
   },
   "outputs": [],
   "source": [
    "data3.drop(\"Community Board\", axis = 1, inplace = True)"
   ]
  },
  {
   "cell_type": "code",
   "execution_count": 89,
   "metadata": {
    "collapsed": false
   },
   "outputs": [
    {
     "data": {
      "text/html": [
       "<div>\n",
       "<table border=\"1\" class=\"dataframe\">\n",
       "  <thead>\n",
       "    <tr style=\"text-align: right;\">\n",
       "      <th></th>\n",
       "      <th>Community Board</th>\n",
       "      <th>Number of Complaints</th>\n",
       "      <th>FIPS</th>\n",
       "      <th>Total Population</th>\n",
       "      <th>Population Density (per sq. mile)</th>\n",
       "      <th>% Total Population: Male</th>\n",
       "      <th>% Total Population: 18 to 24 Years</th>\n",
       "      <th>% Total Population: 25 to 34 Years</th>\n",
       "      <th>% Total Population: 35 to 44 Years</th>\n",
       "      <th>% Population 5 Years And Over: Speak Only English</th>\n",
       "      <th>...</th>\n",
       "      <th>Employed Civilian Population 16 Years And Over: Production, transportation, and material moving  occupations: Production occupations</th>\n",
       "      <th>Employed Civilian Population 16 Years And Over: Production, transportation, and material moving  occupations: Transportation and material moving occupations</th>\n",
       "      <th>% Employed Civilian Population 16 Years And Over: Management, professional, and related occupations</th>\n",
       "      <th>% Employed Civilian Population 16 Years And Over: Service occupations</th>\n",
       "      <th>% Employed Civilian Population 16 Years And Over: Sales and office occupations</th>\n",
       "      <th>% Employed Civilian Population 16 Years And Over: Farming, fishing, and forestry occupations</th>\n",
       "      <th>% Employed Civilian Population 16 Years And Over: Construction, extraction, and maintenance  occupations</th>\n",
       "      <th>% Employed Civilian Population 16 Years And Over: Production, transportation, and material moving  occupations</th>\n",
       "      <th>% Employed Civilian Population 16 Years And Over: Production, transportation, and material moving  occupations: Production occupations</th>\n",
       "      <th>% Employed Civilian Population 16 Years And Over: Production, transportation, and material moving  occupations: Transportation and material moving occupations</th>\n",
       "    </tr>\n",
       "  </thead>\n",
       "  <tbody>\n",
       "    <tr>\n",
       "      <th>0</th>\n",
       "      <td>01 BRONX</td>\n",
       "      <td>25</td>\n",
       "      <td>3603710</td>\n",
       "      <td>167147</td>\n",
       "      <td>34412.07524</td>\n",
       "      <td>49.63</td>\n",
       "      <td>12.76</td>\n",
       "      <td>18.26</td>\n",
       "      <td>12.04</td>\n",
       "      <td>27.49</td>\n",
       "      <td>...</td>\n",
       "      <td>1757</td>\n",
       "      <td>5806</td>\n",
       "      <td>17.71</td>\n",
       "      <td>39.30</td>\n",
       "      <td>22.68</td>\n",
       "      <td>0.00</td>\n",
       "      <td>5.70</td>\n",
       "      <td>14.61</td>\n",
       "      <td>3.39</td>\n",
       "      <td>11.22</td>\n",
       "    </tr>\n",
       "    <tr>\n",
       "      <th>1</th>\n",
       "      <td>01 BROOKLYN</td>\n",
       "      <td>32</td>\n",
       "      <td>3604001</td>\n",
       "      <td>154713</td>\n",
       "      <td>37671.51058</td>\n",
       "      <td>49.93</td>\n",
       "      <td>8.52</td>\n",
       "      <td>29.88</td>\n",
       "      <td>13.70</td>\n",
       "      <td>72.48</td>\n",
       "      <td>...</td>\n",
       "      <td>1823</td>\n",
       "      <td>2894</td>\n",
       "      <td>52.80</td>\n",
       "      <td>15.35</td>\n",
       "      <td>22.83</td>\n",
       "      <td>0.00</td>\n",
       "      <td>3.47</td>\n",
       "      <td>5.55</td>\n",
       "      <td>2.14</td>\n",
       "      <td>3.40</td>\n",
       "    </tr>\n",
       "    <tr>\n",
       "      <th>2</th>\n",
       "      <td>01 MANHATTAN</td>\n",
       "      <td>5</td>\n",
       "      <td>3603810</td>\n",
       "      <td>159903</td>\n",
       "      <td>53928.05360</td>\n",
       "      <td>49.00</td>\n",
       "      <td>8.55</td>\n",
       "      <td>28.38</td>\n",
       "      <td>18.14</td>\n",
       "      <td>65.31</td>\n",
       "      <td>...</td>\n",
       "      <td>655</td>\n",
       "      <td>1404</td>\n",
       "      <td>73.33</td>\n",
       "      <td>4.22</td>\n",
       "      <td>19.67</td>\n",
       "      <td>0.00</td>\n",
       "      <td>0.75</td>\n",
       "      <td>2.04</td>\n",
       "      <td>0.65</td>\n",
       "      <td>1.39</td>\n",
       "    </tr>\n",
       "    <tr>\n",
       "      <th>3</th>\n",
       "      <td>01 QUEENS</td>\n",
       "      <td>32</td>\n",
       "      <td>3604101</td>\n",
       "      <td>182860</td>\n",
       "      <td>35800.75960</td>\n",
       "      <td>49.32</td>\n",
       "      <td>9.26</td>\n",
       "      <td>27.12</td>\n",
       "      <td>15.74</td>\n",
       "      <td>66.19</td>\n",
       "      <td>...</td>\n",
       "      <td>2553</td>\n",
       "      <td>6218</td>\n",
       "      <td>41.74</td>\n",
       "      <td>21.52</td>\n",
       "      <td>21.93</td>\n",
       "      <td>0.03</td>\n",
       "      <td>6.26</td>\n",
       "      <td>8.51</td>\n",
       "      <td>2.48</td>\n",
       "      <td>6.03</td>\n",
       "    </tr>\n",
       "    <tr>\n",
       "      <th>4</th>\n",
       "      <td>01 STATEN ISLAND</td>\n",
       "      <td>8</td>\n",
       "      <td>3603903</td>\n",
       "      <td>176338</td>\n",
       "      <td>12537.60496</td>\n",
       "      <td>49.29</td>\n",
       "      <td>10.93</td>\n",
       "      <td>15.08</td>\n",
       "      <td>12.94</td>\n",
       "      <td>71.43</td>\n",
       "      <td>...</td>\n",
       "      <td>1749</td>\n",
       "      <td>4911</td>\n",
       "      <td>35.67</td>\n",
       "      <td>26.10</td>\n",
       "      <td>21.81</td>\n",
       "      <td>0.08</td>\n",
       "      <td>7.50</td>\n",
       "      <td>8.83</td>\n",
       "      <td>2.32</td>\n",
       "      <td>6.51</td>\n",
       "    </tr>\n",
       "  </tbody>\n",
       "</table>\n",
       "<p>5 rows × 159 columns</p>\n",
       "</div>"
      ],
      "text/plain": [
       "    Community Board  Number of Complaints     FIPS  Total Population  \\\n",
       "0          01 BRONX                    25  3603710            167147   \n",
       "1       01 BROOKLYN                    32  3604001            154713   \n",
       "2      01 MANHATTAN                     5  3603810            159903   \n",
       "3         01 QUEENS                    32  3604101            182860   \n",
       "4  01 STATEN ISLAND                     8  3603903            176338   \n",
       "\n",
       "   Population Density (per sq. mile)  % Total Population: Male  \\\n",
       "0                        34412.07524                     49.63   \n",
       "1                        37671.51058                     49.93   \n",
       "2                        53928.05360                     49.00   \n",
       "3                        35800.75960                     49.32   \n",
       "4                        12537.60496                     49.29   \n",
       "\n",
       "   % Total Population: 18 to 24 Years  % Total Population: 25 to 34 Years  \\\n",
       "0                               12.76                               18.26   \n",
       "1                                8.52                               29.88   \n",
       "2                                8.55                               28.38   \n",
       "3                                9.26                               27.12   \n",
       "4                               10.93                               15.08   \n",
       "\n",
       "   % Total Population: 35 to 44 Years  \\\n",
       "0                               12.04   \n",
       "1                               13.70   \n",
       "2                               18.14   \n",
       "3                               15.74   \n",
       "4                               12.94   \n",
       "\n",
       "   % Population 5 Years And Over: Speak Only English  \\\n",
       "0                                              27.49   \n",
       "1                                              72.48   \n",
       "2                                              65.31   \n",
       "3                                              66.19   \n",
       "4                                              71.43   \n",
       "\n",
       "                                                                                ...                                                                                \\\n",
       "0                                                                               ...                                                                                 \n",
       "1                                                                               ...                                                                                 \n",
       "2                                                                               ...                                                                                 \n",
       "3                                                                               ...                                                                                 \n",
       "4                                                                               ...                                                                                 \n",
       "\n",
       "   Employed Civilian Population 16 Years And Over: Production, transportation, and material moving  occupations: Production occupations  \\\n",
       "0                                               1757                                                                                      \n",
       "1                                               1823                                                                                      \n",
       "2                                                655                                                                                      \n",
       "3                                               2553                                                                                      \n",
       "4                                               1749                                                                                      \n",
       "\n",
       "   Employed Civilian Population 16 Years And Over: Production, transportation, and material moving  occupations: Transportation and material moving occupations  \\\n",
       "0                                               5806                                                                                                              \n",
       "1                                               2894                                                                                                              \n",
       "2                                               1404                                                                                                              \n",
       "3                                               6218                                                                                                              \n",
       "4                                               4911                                                                                                              \n",
       "\n",
       "   % Employed Civilian Population 16 Years And Over: Management, professional, and related occupations  \\\n",
       "0                                              17.71                                                     \n",
       "1                                              52.80                                                     \n",
       "2                                              73.33                                                     \n",
       "3                                              41.74                                                     \n",
       "4                                              35.67                                                     \n",
       "\n",
       "   % Employed Civilian Population 16 Years And Over: Service occupations  \\\n",
       "0                                              39.30                       \n",
       "1                                              15.35                       \n",
       "2                                               4.22                       \n",
       "3                                              21.52                       \n",
       "4                                              26.10                       \n",
       "\n",
       "   % Employed Civilian Population 16 Years And Over: Sales and office occupations  \\\n",
       "0                                              22.68                                \n",
       "1                                              22.83                                \n",
       "2                                              19.67                                \n",
       "3                                              21.93                                \n",
       "4                                              21.81                                \n",
       "\n",
       "   % Employed Civilian Population 16 Years And Over: Farming, fishing, and forestry occupations  \\\n",
       "0                                               0.00                                              \n",
       "1                                               0.00                                              \n",
       "2                                               0.00                                              \n",
       "3                                               0.03                                              \n",
       "4                                               0.08                                              \n",
       "\n",
       "   % Employed Civilian Population 16 Years And Over: Construction, extraction, and maintenance  occupations  \\\n",
       "0                                               5.70                                                          \n",
       "1                                               3.47                                                          \n",
       "2                                               0.75                                                          \n",
       "3                                               6.26                                                          \n",
       "4                                               7.50                                                          \n",
       "\n",
       "   % Employed Civilian Population 16 Years And Over: Production, transportation, and material moving  occupations  \\\n",
       "0                                              14.61                                                                \n",
       "1                                               5.55                                                                \n",
       "2                                               2.04                                                                \n",
       "3                                               8.51                                                                \n",
       "4                                               8.83                                                                \n",
       "\n",
       "   % Employed Civilian Population 16 Years And Over: Production, transportation, and material moving  occupations: Production occupations  \\\n",
       "0                                               3.39                                                                                        \n",
       "1                                               2.14                                                                                        \n",
       "2                                               0.65                                                                                        \n",
       "3                                               2.48                                                                                        \n",
       "4                                               2.32                                                                                        \n",
       "\n",
       "   % Employed Civilian Population 16 Years And Over: Production, transportation, and material moving  occupations: Transportation and material moving occupations  \n",
       "0                                              11.22                                                                                                               \n",
       "1                                               3.40                                                                                                               \n",
       "2                                               1.39                                                                                                               \n",
       "3                                               6.03                                                                                                               \n",
       "4                                               6.51                                                                                                               \n",
       "\n",
       "[5 rows x 159 columns]"
      ]
     },
     "execution_count": 89,
     "metadata": {},
     "output_type": "execute_result"
    }
   ],
   "source": [
    "data3.head()"
   ]
  },
  {
   "cell_type": "markdown",
   "metadata": {
    "collapsed": true
   },
   "source": [
    "### Save data frame"
   ]
  },
  {
   "cell_type": "code",
   "execution_count": null,
   "metadata": {
    "collapsed": true
   },
   "outputs": [],
   "source": [
    "# data3 = pd.to_csv(\"data.csv\")"
   ]
  },
  {
   "cell_type": "markdown",
   "metadata": {
    "collapsed": false
   },
   "source": [
    "### Infrastructure by Community District"
   ]
  },
  {
   "cell_type": "code",
   "execution_count": 90,
   "metadata": {
    "collapsed": true
   },
   "outputs": [],
   "source": [
    "df_infr = pd.read_csv(\"http://cosmo.nyu.edu/~fb55/PUI2016/data/ACS_Computer_Use_and_Internet_2014_1Year_Estimate.csv\")"
   ]
  },
  {
   "cell_type": "markdown",
   "metadata": {
    "collapsed": false
   },
   "source": [
    "### Check variables in file"
   ]
  },
  {
   "cell_type": "code",
   "execution_count": 91,
   "metadata": {
    "collapsed": false
   },
   "outputs": [
    {
     "data": {
      "text/plain": [
       "(59, 31)"
      ]
     },
     "execution_count": 91,
     "metadata": {},
     "output_type": "execute_result"
    }
   ],
   "source": [
    "df_infr.shape"
   ]
  },
  {
   "cell_type": "code",
   "execution_count": 92,
   "metadata": {
    "collapsed": false
   },
   "outputs": [
    {
     "data": {
      "text/plain": [
       "Index(['FIPS', 'Geographic Identifier', 'Qualifying Name', 'Households',\n",
       "       'Households: With An Internet Subscription',\n",
       "       'Households: Dial-Up Alone', 'Households: Dsl',\n",
       "       'Households: With Mobile Broadband',\n",
       "       'Households: Without Mobile Broadband', 'Households: Cable Modem',\n",
       "       'Households: With Mobile Broadband.1',\n",
       "       'Households: Without Mobile Broadband.1', 'Households: Fiber-Optic',\n",
       "       'Households: With Mobile Broadband.2',\n",
       "       'Households: Without Mobile Broadband.2',\n",
       "       'Households: Satellite Internet Service',\n",
       "       'Households: With Mobile Broadband.3',\n",
       "       'Households: Without Mobile Broadband.3',\n",
       "       'Households: Two or More Fixed Broadband Types, or Other',\n",
       "       'Households: With Mobile Broadband.4',\n",
       "       'Households: Without Mobile Broadband.4',\n",
       "       'Households: Mobile Broadband Alone or With Dialup',\n",
       "       'Households: Internet Access Without A Subscription',\n",
       "       'Households: No Internet Access',\n",
       "       '% Households: With An Internet Subscription', 'Households.1',\n",
       "       'Households: Has A Computer',\n",
       "       'Households: With Dial-Up Internet Subscription Alone',\n",
       "       'Households: With A Broadband Internet Subscription',\n",
       "       'Households: Without An Internet Subscription',\n",
       "       'Households: No Computer'],\n",
       "      dtype='object')"
      ]
     },
     "execution_count": 92,
     "metadata": {},
     "output_type": "execute_result"
    }
   ],
   "source": [
    "df_infr.columns"
   ]
  },
  {
   "cell_type": "code",
   "execution_count": 93,
   "metadata": {
    "collapsed": false
   },
   "outputs": [
    {
     "data": {
      "text/html": [
       "<div>\n",
       "<table border=\"1\" class=\"dataframe\">\n",
       "  <thead>\n",
       "    <tr style=\"text-align: right;\">\n",
       "      <th></th>\n",
       "      <th>FIPS</th>\n",
       "      <th>Geographic Identifier</th>\n",
       "      <th>Qualifying Name</th>\n",
       "      <th>Households</th>\n",
       "      <th>Households: With An Internet Subscription</th>\n",
       "      <th>Households: Dial-Up Alone</th>\n",
       "      <th>Households: Dsl</th>\n",
       "      <th>Households: With Mobile Broadband</th>\n",
       "      <th>Households: Without Mobile Broadband</th>\n",
       "      <th>Households: Cable Modem</th>\n",
       "      <th>...</th>\n",
       "      <th>Households: Mobile Broadband Alone or With Dialup</th>\n",
       "      <th>Households: Internet Access Without A Subscription</th>\n",
       "      <th>Households: No Internet Access</th>\n",
       "      <th>% Households: With An Internet Subscription</th>\n",
       "      <th>Households.1</th>\n",
       "      <th>Households: Has A Computer</th>\n",
       "      <th>Households: With Dial-Up Internet Subscription Alone</th>\n",
       "      <th>Households: With A Broadband Internet Subscription</th>\n",
       "      <th>Households: Without An Internet Subscription</th>\n",
       "      <th>Households: No Computer</th>\n",
       "    </tr>\n",
       "  </thead>\n",
       "  <tbody>\n",
       "    <tr>\n",
       "      <th>0</th>\n",
       "      <td>3603701</td>\n",
       "      <td>79500US3603701</td>\n",
       "      <td>NYC-Bronx Community District 8--Riverdale, New...</td>\n",
       "      <td>42035</td>\n",
       "      <td>31795</td>\n",
       "      <td>444</td>\n",
       "      <td>2813</td>\n",
       "      <td>946</td>\n",
       "      <td>1867</td>\n",
       "      <td>19178</td>\n",
       "      <td>...</td>\n",
       "      <td>2168</td>\n",
       "      <td>2119</td>\n",
       "      <td>8121</td>\n",
       "      <td>75.64</td>\n",
       "      <td>42035</td>\n",
       "      <td>35048</td>\n",
       "      <td>404</td>\n",
       "      <td>30943</td>\n",
       "      <td>3701</td>\n",
       "      <td>6987</td>\n",
       "    </tr>\n",
       "    <tr>\n",
       "      <th>1</th>\n",
       "      <td>3603702</td>\n",
       "      <td>79500US3603702</td>\n",
       "      <td>NYC-Bronx Community District 12--Wakefield, Ne...</td>\n",
       "      <td>44830</td>\n",
       "      <td>32243</td>\n",
       "      <td>178</td>\n",
       "      <td>849</td>\n",
       "      <td>405</td>\n",
       "      <td>444</td>\n",
       "      <td>18653</td>\n",
       "      <td>...</td>\n",
       "      <td>928</td>\n",
       "      <td>1891</td>\n",
       "      <td>10696</td>\n",
       "      <td>71.92</td>\n",
       "      <td>44830</td>\n",
       "      <td>36700</td>\n",
       "      <td>178</td>\n",
       "      <td>31435</td>\n",
       "      <td>5087</td>\n",
       "      <td>8130</td>\n",
       "    </tr>\n",
       "    <tr>\n",
       "      <th>2</th>\n",
       "      <td>3603703</td>\n",
       "      <td>79500US3603703</td>\n",
       "      <td>NYC-Bronx Community District 10--Co-op City, N...</td>\n",
       "      <td>47050</td>\n",
       "      <td>32729</td>\n",
       "      <td>158</td>\n",
       "      <td>1863</td>\n",
       "      <td>398</td>\n",
       "      <td>1465</td>\n",
       "      <td>20044</td>\n",
       "      <td>...</td>\n",
       "      <td>639</td>\n",
       "      <td>2882</td>\n",
       "      <td>11439</td>\n",
       "      <td>69.56</td>\n",
       "      <td>47050</td>\n",
       "      <td>38700</td>\n",
       "      <td>158</td>\n",
       "      <td>32333</td>\n",
       "      <td>6209</td>\n",
       "      <td>8350</td>\n",
       "    </tr>\n",
       "    <tr>\n",
       "      <th>3</th>\n",
       "      <td>3603704</td>\n",
       "      <td>79500US3603704</td>\n",
       "      <td>NYC-Bronx Community District 11--Pelham Parkwa...</td>\n",
       "      <td>44922</td>\n",
       "      <td>32003</td>\n",
       "      <td>141</td>\n",
       "      <td>1478</td>\n",
       "      <td>474</td>\n",
       "      <td>1004</td>\n",
       "      <td>17917</td>\n",
       "      <td>...</td>\n",
       "      <td>1001</td>\n",
       "      <td>2722</td>\n",
       "      <td>10197</td>\n",
       "      <td>71.24</td>\n",
       "      <td>44922</td>\n",
       "      <td>37237</td>\n",
       "      <td>122</td>\n",
       "      <td>31278</td>\n",
       "      <td>5837</td>\n",
       "      <td>7685</td>\n",
       "    </tr>\n",
       "    <tr>\n",
       "      <th>4</th>\n",
       "      <td>3603705</td>\n",
       "      <td>79500US3603705</td>\n",
       "      <td>NYC-Bronx Community District 3 &amp; 6--Belmont, N...</td>\n",
       "      <td>57556</td>\n",
       "      <td>35503</td>\n",
       "      <td>88</td>\n",
       "      <td>1297</td>\n",
       "      <td>651</td>\n",
       "      <td>646</td>\n",
       "      <td>15847</td>\n",
       "      <td>...</td>\n",
       "      <td>1385</td>\n",
       "      <td>3312</td>\n",
       "      <td>18741</td>\n",
       "      <td>61.68</td>\n",
       "      <td>57556</td>\n",
       "      <td>42576</td>\n",
       "      <td>88</td>\n",
       "      <td>33408</td>\n",
       "      <td>9080</td>\n",
       "      <td>14980</td>\n",
       "    </tr>\n",
       "  </tbody>\n",
       "</table>\n",
       "<p>5 rows × 31 columns</p>\n",
       "</div>"
      ],
      "text/plain": [
       "      FIPS Geographic Identifier  \\\n",
       "0  3603701        79500US3603701   \n",
       "1  3603702        79500US3603702   \n",
       "2  3603703        79500US3603703   \n",
       "3  3603704        79500US3603704   \n",
       "4  3603705        79500US3603705   \n",
       "\n",
       "                                     Qualifying Name  Households  \\\n",
       "0  NYC-Bronx Community District 8--Riverdale, New...       42035   \n",
       "1  NYC-Bronx Community District 12--Wakefield, Ne...       44830   \n",
       "2  NYC-Bronx Community District 10--Co-op City, N...       47050   \n",
       "3  NYC-Bronx Community District 11--Pelham Parkwa...       44922   \n",
       "4  NYC-Bronx Community District 3 & 6--Belmont, N...       57556   \n",
       "\n",
       "   Households: With An Internet Subscription  Households: Dial-Up Alone  \\\n",
       "0                                      31795                        444   \n",
       "1                                      32243                        178   \n",
       "2                                      32729                        158   \n",
       "3                                      32003                        141   \n",
       "4                                      35503                         88   \n",
       "\n",
       "   Households: Dsl  Households: With Mobile Broadband  \\\n",
       "0             2813                                946   \n",
       "1              849                                405   \n",
       "2             1863                                398   \n",
       "3             1478                                474   \n",
       "4             1297                                651   \n",
       "\n",
       "   Households: Without Mobile Broadband  Households: Cable Modem  \\\n",
       "0                                  1867                    19178   \n",
       "1                                   444                    18653   \n",
       "2                                  1465                    20044   \n",
       "3                                  1004                    17917   \n",
       "4                                   646                    15847   \n",
       "\n",
       "            ...             Households: Mobile Broadband Alone or With Dialup  \\\n",
       "0           ...                                                          2168   \n",
       "1           ...                                                           928   \n",
       "2           ...                                                           639   \n",
       "3           ...                                                          1001   \n",
       "4           ...                                                          1385   \n",
       "\n",
       "   Households: Internet Access Without A Subscription  \\\n",
       "0                                               2119    \n",
       "1                                               1891    \n",
       "2                                               2882    \n",
       "3                                               2722    \n",
       "4                                               3312    \n",
       "\n",
       "   Households: No Internet Access  \\\n",
       "0                            8121   \n",
       "1                           10696   \n",
       "2                           11439   \n",
       "3                           10197   \n",
       "4                           18741   \n",
       "\n",
       "   % Households: With An Internet Subscription  Households.1  \\\n",
       "0                                        75.64         42035   \n",
       "1                                        71.92         44830   \n",
       "2                                        69.56         47050   \n",
       "3                                        71.24         44922   \n",
       "4                                        61.68         57556   \n",
       "\n",
       "   Households: Has A Computer  \\\n",
       "0                       35048   \n",
       "1                       36700   \n",
       "2                       38700   \n",
       "3                       37237   \n",
       "4                       42576   \n",
       "\n",
       "   Households: With Dial-Up Internet Subscription Alone  \\\n",
       "0                                                404      \n",
       "1                                                178      \n",
       "2                                                158      \n",
       "3                                                122      \n",
       "4                                                 88      \n",
       "\n",
       "   Households: With A Broadband Internet Subscription  \\\n",
       "0                                              30943    \n",
       "1                                              31435    \n",
       "2                                              32333    \n",
       "3                                              31278    \n",
       "4                                              33408    \n",
       "\n",
       "   Households: Without An Internet Subscription  Households: No Computer  \n",
       "0                                          3701                     6987  \n",
       "1                                          5087                     8130  \n",
       "2                                          6209                     8350  \n",
       "3                                          5837                     7685  \n",
       "4                                          9080                    14980  \n",
       "\n",
       "[5 rows x 31 columns]"
      ]
     },
     "execution_count": 93,
     "metadata": {},
     "output_type": "execute_result"
    }
   ],
   "source": [
    "df_infr.head()"
   ]
  },
  {
   "cell_type": "markdown",
   "metadata": {
    "collapsed": true
   },
   "source": [
    "### How many community districts are in file? "
   ]
  },
  {
   "cell_type": "code",
   "execution_count": 97,
   "metadata": {
    "collapsed": false
   },
   "outputs": [
    {
     "data": {
      "text/plain": [
       "array(['NYC-Bronx Community District 8--Riverdale, New York',\n",
       "       'NYC-Bronx Community District 12--Wakefield, New York',\n",
       "       'NYC-Bronx Community District 10--Co-op City, New York',\n",
       "       'NYC-Bronx Community District 11--Pelham Parkway, New York',\n",
       "       'NYC-Bronx Community District 3 & 6--Belmont, New York',\n",
       "       'NYC-Bronx Community District 7--Bedford Park, New York',\n",
       "       'NYC-Bronx Community District 5--Morris Heights, New York',\n",
       "       'NYC-Bronx Community District 4--Concourse, New York',\n",
       "       'NYC-Bronx Community District 9--Castle Hill, New York',\n",
       "       'NYC-Bronx Community District 1 & 2--Hunts Point, New York',\n",
       "       'NYC-Manhattan Community District 12--Washington Heights, New York',\n",
       "       'NYC-Manhattan Community District 9--Hamilton Heights, New York',\n",
       "       'NYC-Manhattan Community District 10--Central Harlem PUMA, New York',\n",
       "       'NYC-Manhattan Community District 11--East Harlem PUMA, New York',\n",
       "       'NYC-Manhattan Community District 8--Upper East Side PUMA, New York',\n",
       "       'NYC-Manhattan Community District 7--Upper West Side & West Side PUMA, New York',\n",
       "       'NYC-Manhattan Community District 4 & 5--Chelsea, New York',\n",
       "       'NYC-Manhattan Community District 6--Murray Hill, New York',\n",
       "       'NYC-Manhattan Community District 3--Chinatown & Lower East Side PUMA, New York',\n",
       "       'NYC-Manhattan Community District 1 & 2--Battery Park City, New York',\n",
       "       'NYC-Staten Island Community District 3--Tottenville, New York',\n",
       "       'NYC-Staten Island Community District 2--New Springville & South Beach PUMA, New York',\n",
       "       'NYC-Staten Island Community District 1--Port Richmond, New York',\n",
       "       'NYC-Brooklyn Community District 1--Greenpoint & Williamsburg PUMA, New York',\n",
       "       'NYC-Brooklyn Community District 4--Bushwick PUMA, New York',\n",
       "       'NYC-Brooklyn Community District 3--Bedford-Stuyvesant PUMA, New York',\n",
       "       'NYC-Brooklyn Community District 2--Brooklyn Heights & Fort Greene PUMA, New York',\n",
       "       'NYC-Brooklyn Community District 6--Park Slope, New York',\n",
       "       'NYC-Brooklyn Community District 8--Crown Heights North & Prospect Heights PUMA, New York',\n",
       "       'NYC-Brooklyn Community District 16--Brownsville & Ocean Hill PUMA, New York',\n",
       "       'NYC-Brooklyn Community District 5--East New York & Starrett City PUMA, New York',\n",
       "       'NYC-Brooklyn Community District 18--Canarsie & Flatlands PUMA, New York',\n",
       "       'NYC-Brooklyn Community District 17--East Flatbush, New York',\n",
       "       'NYC-Brooklyn Community District 9--Crown Heights South, New York',\n",
       "       'NYC-Brooklyn Community District 7--Sunset Park & Windsor Terrace PUMA, New York',\n",
       "       'NYC-Brooklyn Community District 10--Bay Ridge & Dyker Heights PUMA, New York',\n",
       "       'NYC-Brooklyn Community District 12--Borough Park, New York',\n",
       "       'NYC-Brooklyn Community District 14--Flatbush & Midwood PUMA, New York',\n",
       "       'NYC-Brooklyn Community District 15--Sheepshead Bay, New York',\n",
       "       'NYC-Brooklyn Community District 11--Bensonhurst & Bath Beach PUMA, New York',\n",
       "       'NYC-Brooklyn Community District 13--Brighton Beach & Coney Island PUMA, New York',\n",
       "       'NYC-Queens Community District 1--Astoria & Long Island City PUMA, New York',\n",
       "       'NYC-Queens Community District 3--Jackson Heights & North Corona PUMA, New York',\n",
       "       'NYC-Queens Community District 7--Flushing, New York',\n",
       "       'NYC-Queens Community District 11--Bayside, New York',\n",
       "       'NYC-Queens Community District 13--Queens Village, New York',\n",
       "       'NYC-Queens Community District 8--Briarwood, New York',\n",
       "       'NYC-Queens Community District 4--Elmhurst & South Corona PUMA, New York',\n",
       "       'NYC-Queens Community District 6--Forest Hills & Rego Park PUMA, New York',\n",
       "       'NYC-Queens Community District 2--Sunnyside & Woodside PUMA, New York',\n",
       "       'NYC-Queens Community District 5--Ridgewood, New York',\n",
       "       'NYC-Queens Community District 9--Richmond Hill & Woodhaven PUMA, New York',\n",
       "       'NYC-Queens Community District 12--Jamaica, New York',\n",
       "       'NYC-Queens Community District 10--Howard Beach & Ozone Park PUMA, New York',\n",
       "       'NYC-Queens Community District 14--Far Rockaway, New York'], dtype=object)"
      ]
     },
     "execution_count": 97,
     "metadata": {},
     "output_type": "execute_result"
    }
   ],
   "source": [
    "df_infr[\"Qualifying Name\"].unique()"
   ]
  },
  {
   "cell_type": "markdown",
   "metadata": {
    "collapsed": true
   },
   "source": [
    "### Manipulate data to get some information on internet/broadband useage by Community District. Aggregate the mobile subscription data."
   ]
  },
  {
   "cell_type": "markdown",
   "metadata": {
    "collapsed": true
   },
   "source": [
    "### Aggregate internet type by high and low connections"
   ]
  },
  {
   "cell_type": "markdown",
   "metadata": {
    "collapsed": true
   },
   "source": [
    "### Save data frame "
   ]
  },
  {
   "cell_type": "markdown",
   "metadata": {},
   "source": [
    "---"
   ]
  },
  {
   "cell_type": "markdown",
   "metadata": {},
   "source": [
    "# 5. Inform your results by linking datasets\n",
    "Now you want to link the three data frames to produce summary statistics for Community Districts which show a high number of complaints vs. Community Districts which show a lower number of complaints. Please keep in mind that the identifiers used for the linkage (Community Dostrict IDs) should be recored the same way. Use regular expressions to harmonize the identifiers if possible. The identifiers should look like BK01, BK02, etc.\n",
    "https://docs.python.org/2/library/re.html"
   ]
  },
  {
   "cell_type": "markdown",
   "metadata": {
    "collapsed": false
   },
   "source": [
    "### Harmonize identifier of dataframe 1"
   ]
  },
  {
   "cell_type": "markdown",
   "metadata": {},
   "source": [
    "#### See the creation of `data2`."
   ]
  },
  {
   "cell_type": "markdown",
   "metadata": {
    "collapsed": false
   },
   "source": [
    "### Harmonize identifier of dataframe 2"
   ]
  },
  {
   "cell_type": "markdown",
   "metadata": {},
   "source": [
    "#### See the creation of `data3`."
   ]
  },
  {
   "cell_type": "markdown",
   "metadata": {
    "collapsed": true
   },
   "source": [
    "### Harmonize identifier of dataframe 3"
   ]
  },
  {
   "cell_type": "markdown",
   "metadata": {
    "collapsed": false
   },
   "source": [
    "### Link the 3 dataframes"
   ]
  },
  {
   "cell_type": "markdown",
   "metadata": {
    "collapsed": true
   },
   "source": [
    "### Are the demographics and infrastructure different in Community Districts that show more complaints than others?"
   ]
  },
  {
   "cell_type": "markdown",
   "metadata": {},
   "source": [
    "---"
   ]
  }
 ],
 "metadata": {
  "celltoolbar": "Raw Cell Format",
  "kernelspec": {
   "display_name": "PUI2016_Python3",
   "language": "python",
   "name": "pui2016_python3"
  },
  "language_info": {
   "codemirror_mode": {
    "name": "ipython",
    "version": 3
   },
   "file_extension": ".py",
   "mimetype": "text/x-python",
   "name": "python",
   "nbconvert_exporter": "python",
   "pygments_lexer": "ipython3",
   "version": "3.5.2"
  }
 },
 "nbformat": 4,
 "nbformat_minor": 0
}
